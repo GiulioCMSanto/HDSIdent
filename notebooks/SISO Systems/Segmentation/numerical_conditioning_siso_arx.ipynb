{
  "nbformat": 4,
  "nbformat_minor": 0,
  "metadata": {
    "colab": {
      "name": "numerical_conditioning_siso_arx.ipynb",
      "provenance": [],
      "collapsed_sections": [
        "sMzT26ukMgba"
      ],
      "authorship_tag": "ABX9TyNFMIYUGuYtm6IXEDm+53fQ",
      "include_colab_link": true
    },
    "kernelspec": {
      "name": "python3",
      "display_name": "Python 3"
    }
  },
  "cells": [
    {
      "cell_type": "markdown",
      "metadata": {
        "id": "view-in-github",
        "colab_type": "text"
      },
      "source": [
        "<a href=\"https://colab.research.google.com/github/GiulioCMSanto/HDSIdent/blob/master/notebooks/SISO%20Systems/Segmentation/numerical_conditioning_siso_arx.ipynb\" target=\"_parent\"><img src=\"https://colab.research.google.com/assets/colab-badge.svg\" alt=\"Open In Colab\"/></a>"
      ]
    },
    {
      "cell_type": "markdown",
      "metadata": {
        "id": "mS-qRx575q6m"
      },
      "source": [
        "# Numerical Conditioning: SISO ARX Approach\n",
        "\n",
        "[HDSIdent: Historical Data Segmentation for System Identification](https://github.com/GiulioCMSanto/HDSIdent)\n",
        "\n",
        "This notebook explores how to obtain intervals suitable for system identification through a numerical conditioning ARX approach, considering Single-Input Single-Output systems.\n",
        "\n",
        "**How to reference this work?**\n",
        "\n",
        "[SANTO, G. C. M. Data Mining Techniques Applied to Historical Data of Industrial Processes \n",
        "as a Tool to Find Time Intervals Suitable for System Identification. Masters dissertation \n",
        "– Polytechnic School of the University of São Paulo, São Paulo, Brasil, 2020. \n",
        "DOI: 10.13140/RG.2.2.13295.46240](https://www.researchgate.net/publication/347511108_Data_Mining_Techniques_Applied_to_Historical_Data_of_Industrial_Processes_as_a_Tool_to_Find_Time_Intervals_Suitable_for_System_Identification?channel=doi&linkId=5fdf5293a6fdccdcb8e856c4&showFulltext=true)\n"
      ]
    },
    {
      "cell_type": "markdown",
      "metadata": {
        "id": "eIvEDry7NoEx"
      },
      "source": [
        "**About the Method**\n",
        "\n",
        "The method here presented is produced based on the following works:\n",
        "```\n",
        "PERETZKI, D. et al. Data mining of historic data for process identification.\n",
        "In: Proceedings of the 2011 AIChE Annual Meeting, p. 1027–1033, 2011.\n",
        "\n",
        "BITTENCOURT, A. C. et al. An algorithm for finding process identification\n",
        "intervals from normal operating data. Processes, v. 3, p. 357–383, 2015.\n",
        "\n",
        "RIBEIRO, A. H.; AGUIRRE, L. A. Selecting transients automatically for the\n",
        "identification of models for an oil well. IFAC-PapersOnLine, v. 48, n. 6, p.\n",
        "154–158, 2015.\n",
        "```\n",
        "\n",
        "Related works are the following:\n",
        "```\n",
        "SHARDT, Y. A. W.; SHAH, S. L. Segmentation Methods for Model Identification from\n",
        "Historical Process Data. In: Proceedings of the 19th World Congress. Cape Town,\n",
        "South Africa: IFAC, 2014. p. 2836–2841.\n",
        "  \n",
        "PATEL, A. Data Mining of Process Data in Mutlivariable Systems.\n",
        "Degree project in electrical engineering — Royal Institute of Technology,\n",
        "Stockholm, Sweden, 2016.\n",
        "\n",
        "ARENGAS, D.; KROLL, A. A Search Method for Selecting Informative Data in Predominantly\n",
        "Stationary Historical Records for Multivariable System Identification.\n",
        "In: Proceedings of the 21st International Conference on System Theory,\n",
        "Control and Computing (ICSTCC). Sinaia, Romenia: IEEE, 2017a. p. 100–105.\n",
        "\n",
        "ARENGAS, D.; KROLL, A. Searching for informative intervals in predominantly stationary\n",
        "data records to support system identification. In: Proceedings of the XXVI International\n",
        "Conference on Information, Communication and Automation Technologies (ICAT). Sarajevo,\n",
        "Bosnia-Herzegovina: IEEE, 2017b.\n",
        "```"
      ]
    },
    {
      "cell_type": "markdown",
      "metadata": {
        "id": "392t4NnsNoOx"
      },
      "source": [
        "**About the [Dataset](https://github.com/GiulioCMSanto/HDSIdent/tree/master/data/water_tank)**\n",
        "\n",
        "The dataset here adopted was produced through simulation in the dissertation (SANTO, G. C. M., 2020). The dataset is created based on the work in (WANG et al., 2018). The transfer functions adopted in the simulation were directly extracted from (WANG et al., 2018 apud YU et al., 2011), as well as the simulation idea, where similar signals were produced.\n",
        "\n",
        "**References**:\n",
        "\n",
        "```\n",
        "SANTO, G. C. M. Data Mining Techniques Applied to Historical Data of Industrial Processes \n",
        "as a Tool to Find Time Intervals Suitable for System Identification. Masters dissertation \n",
        "– Polytechnic School of the University of São Paulo, São Paulo, Brasil, 2020. \n",
        "DOI: 10.13140/RG.2.2.13295.46240.\n",
        "\n",
        "WANG, J. et al. Searching historical data segments for process identification\n",
        "in feedback control loops. Computers and Chemical Engineering, v. 112, n. 6, p. 6–16, 2018.\n",
        "\n",
        "YU, Z. et al. Performance assessment of pid control loops subject to setpoint\n",
        "changes. Journal of Process Control, v. 21, n. 8, p. 1164–1171, 2011.\n",
        "````"
      ]
    },
    {
      "cell_type": "code",
      "metadata": {
        "id": "JUPAvkF9Llta",
        "colab": {
          "base_uri": "https://localhost:8080/"
        },
        "outputId": "cef16aba-50b3-4fc2-f4b2-df84af261d51"
      },
      "source": [
        "!git clone https://github.com/GiulioCMSanto/HDSIdent.git"
      ],
      "execution_count": null,
      "outputs": [
        {
          "output_type": "stream",
          "text": [
            "Cloning into 'HDSIdent'...\n",
            "remote: Enumerating objects: 111, done.\u001b[K\n",
            "remote: Counting objects: 100% (111/111), done.\u001b[K\n",
            "remote: Compressing objects: 100% (65/65), done.\u001b[K\n",
            "remote: Total 602 (delta 37), reused 93 (delta 30), pack-reused 491\u001b[K\n",
            "Receiving objects: 100% (602/602), 3.80 MiB | 10.11 MiB/s, done.\n",
            "Resolving deltas: 100% (269/269), done.\n"
          ],
          "name": "stdout"
        }
      ]
    },
    {
      "cell_type": "code",
      "metadata": {
        "id": "a__EqeHtLqu0",
        "colab": {
          "base_uri": "https://localhost:8080/"
        },
        "outputId": "577184e2-7465-47e8-b56d-de4d6dcece54"
      },
      "source": [
        "# Change into the directory for install\n",
        "%cd HDSIdent/"
      ],
      "execution_count": null,
      "outputs": [
        {
          "output_type": "stream",
          "text": [
            "/content/HDSIdent\n"
          ],
          "name": "stdout"
        }
      ]
    },
    {
      "cell_type": "code",
      "metadata": {
        "id": "oQrXwROFLu3_",
        "colab": {
          "base_uri": "https://localhost:8080/"
        },
        "outputId": "0356c687-b225-4b7e-8592-3774a28e901e"
      },
      "source": [
        "!python setup.py install"
      ],
      "execution_count": null,
      "outputs": [
        {
          "output_type": "stream",
          "text": [
            "running install\n",
            "running bdist_egg\n",
            "running egg_info\n",
            "creating HDSIdent.egg-info\n",
            "writing HDSIdent.egg-info/PKG-INFO\n",
            "writing dependency_links to HDSIdent.egg-info/dependency_links.txt\n",
            "writing requirements to HDSIdent.egg-info/requires.txt\n",
            "writing top-level names to HDSIdent.egg-info/top_level.txt\n",
            "writing manifest file 'HDSIdent.egg-info/SOURCES.txt'\n",
            "writing manifest file 'HDSIdent.egg-info/SOURCES.txt'\n",
            "installing library code to build/bdist.linux-x86_64/egg\n",
            "running install_lib\n",
            "running build_py\n",
            "creating build\n",
            "creating build/lib\n",
            "creating build/lib/HDSIdent\n",
            "copying HDSIdent/__init__.py -> build/lib/HDSIdent\n",
            "creating build/bdist.linux-x86_64\n",
            "creating build/bdist.linux-x86_64/egg\n",
            "creating build/bdist.linux-x86_64/egg/HDSIdent\n",
            "copying build/lib/HDSIdent/__init__.py -> build/bdist.linux-x86_64/egg/HDSIdent\n",
            "byte-compiling build/bdist.linux-x86_64/egg/HDSIdent/__init__.py to __init__.cpython-36.pyc\n",
            "creating build/bdist.linux-x86_64/egg/EGG-INFO\n",
            "copying HDSIdent.egg-info/PKG-INFO -> build/bdist.linux-x86_64/egg/EGG-INFO\n",
            "copying HDSIdent.egg-info/SOURCES.txt -> build/bdist.linux-x86_64/egg/EGG-INFO\n",
            "copying HDSIdent.egg-info/dependency_links.txt -> build/bdist.linux-x86_64/egg/EGG-INFO\n",
            "copying HDSIdent.egg-info/requires.txt -> build/bdist.linux-x86_64/egg/EGG-INFO\n",
            "copying HDSIdent.egg-info/top_level.txt -> build/bdist.linux-x86_64/egg/EGG-INFO\n",
            "copying HDSIdent.egg-info/zip-safe -> build/bdist.linux-x86_64/egg/EGG-INFO\n",
            "creating dist\n",
            "creating 'dist/HDSIdent-0.0.2.0-py3.6.egg' and adding 'build/bdist.linux-x86_64/egg' to it\n",
            "removing 'build/bdist.linux-x86_64/egg' (and everything under it)\n",
            "Processing HDSIdent-0.0.2.0-py3.6.egg\n",
            "Copying HDSIdent-0.0.2.0-py3.6.egg to /usr/local/lib/python3.6/dist-packages\n",
            "Adding HDSIdent 0.0.2.0 to easy-install.pth file\n",
            "\n",
            "Installed /usr/local/lib/python3.6/dist-packages/HDSIdent-0.0.2.0-py3.6.egg\n",
            "Processing dependencies for HDSIdent==0.0.2.0\n",
            "Searching for sympy==1.1.1\n",
            "Best match: sympy 1.1.1\n",
            "Adding sympy 1.1.1 to easy-install.pth file\n",
            "\n",
            "Using /usr/local/lib/python3.6/dist-packages\n",
            "Searching for joblib==0.17.0\n",
            "Best match: joblib 0.17.0\n",
            "Adding joblib 0.17.0 to easy-install.pth file\n",
            "\n",
            "Using /usr/local/lib/python3.6/dist-packages\n",
            "Searching for seaborn==0.11.0\n",
            "Best match: seaborn 0.11.0\n",
            "Adding seaborn 0.11.0 to easy-install.pth file\n",
            "\n",
            "Using /usr/local/lib/python3.6/dist-packages\n",
            "Searching for matplotlib==3.2.2\n",
            "Best match: matplotlib 3.2.2\n",
            "Adding matplotlib 3.2.2 to easy-install.pth file\n",
            "\n",
            "Using /usr/local/lib/python3.6/dist-packages\n",
            "Searching for numpy==1.18.5\n",
            "Best match: numpy 1.18.5\n",
            "Adding numpy 1.18.5 to easy-install.pth file\n",
            "Installing f2py script to /usr/local/bin\n",
            "Installing f2py3 script to /usr/local/bin\n",
            "Installing f2py3.6 script to /usr/local/bin\n",
            "\n",
            "Using /usr/local/lib/python3.6/dist-packages\n",
            "Searching for pandas==1.1.4\n",
            "Best match: pandas 1.1.4\n",
            "Adding pandas 1.1.4 to easy-install.pth file\n",
            "\n",
            "Using /usr/local/lib/python3.6/dist-packages\n",
            "Searching for scipy==1.4.1\n",
            "Best match: scipy 1.4.1\n",
            "Adding scipy 1.4.1 to easy-install.pth file\n",
            "\n",
            "Using /usr/local/lib/python3.6/dist-packages\n",
            "Searching for scikit-learn==0.22.2.post1\n",
            "Best match: scikit-learn 0.22.2.post1\n",
            "Adding scikit-learn 0.22.2.post1 to easy-install.pth file\n",
            "\n",
            "Using /usr/local/lib/python3.6/dist-packages\n",
            "Searching for mpmath==1.1.0\n",
            "Best match: mpmath 1.1.0\n",
            "Adding mpmath 1.1.0 to easy-install.pth file\n",
            "\n",
            "Using /usr/local/lib/python3.6/dist-packages\n",
            "Searching for pyparsing==2.4.7\n",
            "Best match: pyparsing 2.4.7\n",
            "Adding pyparsing 2.4.7 to easy-install.pth file\n",
            "\n",
            "Using /usr/local/lib/python3.6/dist-packages\n",
            "Searching for kiwisolver==1.3.1\n",
            "Best match: kiwisolver 1.3.1\n",
            "Adding kiwisolver 1.3.1 to easy-install.pth file\n",
            "\n",
            "Using /usr/local/lib/python3.6/dist-packages\n",
            "Searching for cycler==0.10.0\n",
            "Best match: cycler 0.10.0\n",
            "Adding cycler 0.10.0 to easy-install.pth file\n",
            "\n",
            "Using /usr/local/lib/python3.6/dist-packages\n",
            "Searching for python-dateutil==2.8.1\n",
            "Best match: python-dateutil 2.8.1\n",
            "Adding python-dateutil 2.8.1 to easy-install.pth file\n",
            "\n",
            "Using /usr/local/lib/python3.6/dist-packages\n",
            "Searching for pytz==2018.9\n",
            "Best match: pytz 2018.9\n",
            "Adding pytz 2018.9 to easy-install.pth file\n",
            "\n",
            "Using /usr/local/lib/python3.6/dist-packages\n",
            "Searching for six==1.15.0\n",
            "Best match: six 1.15.0\n",
            "Adding six 1.15.0 to easy-install.pth file\n",
            "\n",
            "Using /usr/local/lib/python3.6/dist-packages\n",
            "Finished processing dependencies for HDSIdent==0.0.2.0\n"
          ],
          "name": "stdout"
        }
      ]
    },
    {
      "cell_type": "code",
      "metadata": {
        "id": "cZALCEy_L287"
      },
      "source": [
        "import pandas as pd\n",
        "import numpy as np\n",
        "from scipy.stats import chi2\n",
        "import matplotlib.pyplot as plt\n",
        "import seaborn as sns\n",
        "from time import time\n",
        "\n",
        "import plotly\n",
        "import plotly.graph_objects as go\n",
        "from plotly.offline import init_notebook_mode\n",
        "\n",
        "plotly.io.renderers.default = 'colab'\n",
        "\n",
        "%matplotlib inline\n",
        "sns.set_style('darkgrid')"
      ],
      "execution_count": null,
      "outputs": []
    },
    {
      "cell_type": "code",
      "metadata": {
        "id": "pDFBEbrpL4t1"
      },
      "source": [
        "from HDSIdent.data_treatment.data_preprocessing import Preprocessing\n",
        "from HDSIdent.initial_intervals.exponentially_weighted import ExponentiallyWeighted\n",
        "from HDSIdent.initial_intervals.bandpass_filter import BandpassFilter\n",
        "from HDSIdent.initial_intervals.sliding_window import SlidingWindow\n",
        "\n",
        "from HDSIdent.segmentation_methods.mimo_segmentation import MIMOSegmentation\n",
        "from HDSIdent.model_structures.ar_structure import ARStructure\n",
        "from HDSIdent.model_structures.arx_structure import ARXStructure\n",
        "from HDSIdent.model_structures.laguerre_filter import LaguerreStructure"
      ],
      "execution_count": null,
      "outputs": []
    },
    {
      "cell_type": "markdown",
      "metadata": {
        "id": "DeP0LEnOMKtO"
      },
      "source": [
        "## **1. Read Data**"
      ]
    },
    {
      "cell_type": "code",
      "metadata": {
        "id": "W19gVPpRL-Hs"
      },
      "source": [
        "mv_url = 'https://raw.githubusercontent.com/GiulioCMSanto/HDSIdent/master/data/water_tank/siso_simu_mv.csv'\n",
        "sp_url = 'https://raw.githubusercontent.com/GiulioCMSanto/HDSIdent/master/data/water_tank/siso_simu_sp.csv'\n",
        "y_url = 'https://raw.githubusercontent.com/GiulioCMSanto/HDSIdent/master/data/water_tank/siso_simu_y.csv'"
      ],
      "execution_count": null,
      "outputs": []
    },
    {
      "cell_type": "code",
      "metadata": {
        "id": "9bwuSFCiMMDf"
      },
      "source": [
        "mv = pd.read_csv(mv_url, error_bad_lines=False, header=None)\n",
        "sp = pd.read_csv(sp_url, error_bad_lines=False, header=None)\n",
        "y = pd.read_csv(y_url, error_bad_lines=False, header=None)"
      ],
      "execution_count": null,
      "outputs": []
    },
    {
      "cell_type": "markdown",
      "metadata": {
        "id": "KDBUW3TNMPk1"
      },
      "source": [
        "## **2. Data Preprocessing**"
      ]
    },
    {
      "cell_type": "code",
      "metadata": {
        "id": "HUu0n9DAMNJu"
      },
      "source": [
        "pp = Preprocessing(\n",
        "        scaler='MinMaxScaler',\n",
        "        feature_range=(-0.5,0.5),\n",
        "        k=100);"
      ],
      "execution_count": null,
      "outputs": []
    },
    {
      "cell_type": "code",
      "metadata": {
        "id": "4JZ68IuiMQ8D"
      },
      "source": [
        "X, y = pp.fit_transform(X=np.concatenate([sp, mv],axis=1),y=y)"
      ],
      "execution_count": null,
      "outputs": []
    },
    {
      "cell_type": "code",
      "metadata": {
        "id": "KN8P2opPMR80"
      },
      "source": [
        "sp = X[:,0]\n",
        "mv = X[:,1]\n",
        "y = y.values"
      ],
      "execution_count": null,
      "outputs": []
    },
    {
      "cell_type": "code",
      "metadata": {
        "id": "DOnMHeblMTcy"
      },
      "source": [
        "df = pd.DataFrame()\n",
        "df['SP'] = np.squeeze(sp)\n",
        "df['MV'] = np.squeeze(mv)\n",
        "df['Y'] = np.squeeze(y)"
      ],
      "execution_count": null,
      "outputs": []
    },
    {
      "cell_type": "code",
      "metadata": {
        "id": "XAgCYu41MUlh",
        "colab": {
          "base_uri": "https://localhost:8080/",
          "height": 189
        },
        "outputId": "a40db37c-ac3d-49c7-a9e8-399a2bcb5796"
      },
      "source": [
        "df.head()"
      ],
      "execution_count": null,
      "outputs": [
        {
          "output_type": "execute_result",
          "data": {
            "text/html": [
              "<div>\n",
              "<style scoped>\n",
              "    .dataframe tbody tr th:only-of-type {\n",
              "        vertical-align: middle;\n",
              "    }\n",
              "\n",
              "    .dataframe tbody tr th {\n",
              "        vertical-align: top;\n",
              "    }\n",
              "\n",
              "    .dataframe thead th {\n",
              "        text-align: right;\n",
              "    }\n",
              "</style>\n",
              "<table border=\"1\" class=\"dataframe\">\n",
              "  <thead>\n",
              "    <tr style=\"text-align: right;\">\n",
              "      <th></th>\n",
              "      <th>SP</th>\n",
              "      <th>MV</th>\n",
              "      <th>Y</th>\n",
              "    </tr>\n",
              "  </thead>\n",
              "  <tbody>\n",
              "    <tr>\n",
              "      <th>0</th>\n",
              "      <td>-0.1</td>\n",
              "      <td>0.003182</td>\n",
              "      <td>-0.109338</td>\n",
              "    </tr>\n",
              "    <tr>\n",
              "      <th>1</th>\n",
              "      <td>-0.1</td>\n",
              "      <td>-0.000913</td>\n",
              "      <td>-0.106037</td>\n",
              "    </tr>\n",
              "    <tr>\n",
              "      <th>2</th>\n",
              "      <td>-0.1</td>\n",
              "      <td>-0.009513</td>\n",
              "      <td>-0.099186</td>\n",
              "    </tr>\n",
              "    <tr>\n",
              "      <th>3</th>\n",
              "      <td>-0.1</td>\n",
              "      <td>-0.012116</td>\n",
              "      <td>-0.097125</td>\n",
              "    </tr>\n",
              "    <tr>\n",
              "      <th>4</th>\n",
              "      <td>-0.1</td>\n",
              "      <td>-0.008668</td>\n",
              "      <td>-0.099873</td>\n",
              "    </tr>\n",
              "  </tbody>\n",
              "</table>\n",
              "</div>"
            ],
            "text/plain": [
              "    SP        MV         Y\n",
              "0 -0.1  0.003182 -0.109338\n",
              "1 -0.1 -0.000913 -0.106037\n",
              "2 -0.1 -0.009513 -0.099186\n",
              "3 -0.1 -0.012116 -0.097125\n",
              "4 -0.1 -0.008668 -0.099873"
            ]
          },
          "metadata": {
            "tags": []
          },
          "execution_count": 13
        }
      ]
    },
    {
      "cell_type": "code",
      "metadata": {
        "id": "ELhYPLxYMWFP",
        "colab": {
          "base_uri": "https://localhost:8080/",
          "height": 319
        },
        "outputId": "ff8d638e-98f8-4a6d-eb9e-9344060681f5"
      },
      "source": [
        "plt.figure(figsize=(18,5));\n",
        "plt.plot(y);\n",
        "plt.plot(sp);\n",
        "plt.plot(mv);"
      ],
      "execution_count": null,
      "outputs": [
        {
          "output_type": "display_data",
          "data": {
            "image/png": "[encoded data removed]",
            "text/plain": [
              "<Figure size 1296x360 with 1 Axes>"
            ]
          },
          "metadata": {
            "tags": []
          }
        }
      ]
    },
    {
      "cell_type": "markdown",
      "metadata": {
        "id": "lTsGDbzpMduH"
      },
      "source": [
        "## **3. Compute Potential Intervals**"
      ]
    },
    {
      "cell_type": "markdown",
      "metadata": {
        "id": "sMzT26ukMgba"
      },
      "source": [
        "#### **3.1 Case 1: num_previous_indexes = 0**"
      ]
    },
    {
      "cell_type": "code",
      "metadata": {
        "id": "FpZw2AJZMXDc"
      },
      "source": [
        "EW = ExponentiallyWeighted(\n",
        "      forgetting_fact_v = np.array([0.006,0.006]),\n",
        "      forgetting_fact_u = np.array([0.006,0.006]),\n",
        "      H_v = [0.003,0.003],\n",
        "      num_previous_indexes=0,\n",
        "      min_input_coupling=1,\n",
        "      min_output_coupling=1,\n",
        "      verbose=0,\n",
        "      n_jobs=-1\n",
        "      )\n",
        "\n",
        "EW.fit(X=df[['SP']], y=df[['Y']]);"
      ],
      "execution_count": null,
      "outputs": []
    },
    {
      "cell_type": "code",
      "metadata": {
        "id": "xpMBFJOaMzjs",
        "colab": {
          "base_uri": "https://localhost:8080/"
        },
        "outputId": "6a2b0883-b1b8-4b33-9b69-c7be3e110ff6"
      },
      "source": [
        "EW.unified_intervals.keys()"
      ],
      "execution_count": null,
      "outputs": [
        {
          "output_type": "execute_result",
          "data": {
            "text/plain": [
              "dict_keys([0, 1, 2, 3, 4, 5, 6, 7, 8, 9, 10, 11])"
            ]
          },
          "metadata": {
            "tags": []
          },
          "execution_count": 17
        }
      ]
    },
    {
      "cell_type": "code",
      "metadata": {
        "id": "VywFKyJ6M3tA"
      },
      "source": [
        "ARX = ARXStructure(\n",
        "        nx=2,\n",
        "        ny=2,\n",
        "        nk=1,\n",
        "        delay=5,\n",
        "        cc_alpha=0.05,\n",
        "        initial_intervals=EW.unified_intervals,\n",
        "        efr_type='type_2',\n",
        "        sv_thr=0.8,\n",
        "        n_jobs = -1,\n",
        "        verbose = 0\n",
        "        )"
      ],
      "execution_count": null,
      "outputs": []
    },
    {
      "cell_type": "code",
      "metadata": {
        "id": "PYfmPXU9M6uc"
      },
      "source": [
        "ARX.fit(X=df[['MV']], y=df[['Y']], sp=df[['SP']]);"
      ],
      "execution_count": null,
      "outputs": []
    },
    {
      "cell_type": "code",
      "metadata": {
        "id": "kvnlvv8iM78s",
        "colab": {
          "base_uri": "https://localhost:8080/",
          "height": 388
        },
        "outputId": "50ee684e-01b6-41b2-ec1a-a9fe45fecc30"
      },
      "source": [
        "pd.DataFrame(ARX.cond_num_dict).T"
      ],
      "execution_count": null,
      "outputs": [
        {
          "output_type": "execute_result",
          "data": {
            "text/html": [
              "<div>\n",
              "<style scoped>\n",
              "    .dataframe tbody tr th:only-of-type {\n",
              "        vertical-align: middle;\n",
              "    }\n",
              "\n",
              "    .dataframe tbody tr th {\n",
              "        vertical-align: top;\n",
              "    }\n",
              "\n",
              "    .dataframe thead th {\n",
              "        text-align: right;\n",
              "    }\n",
              "</style>\n",
              "<table border=\"1\" class=\"dataframe\">\n",
              "  <thead>\n",
              "    <tr style=\"text-align: right;\">\n",
              "      <th></th>\n",
              "      <th>Y</th>\n",
              "    </tr>\n",
              "  </thead>\n",
              "  <tbody>\n",
              "    <tr>\n",
              "      <th>segment_1</th>\n",
              "      <td>{'MV': 4.923978771161864e+34}</td>\n",
              "    </tr>\n",
              "    <tr>\n",
              "      <th>segment_0</th>\n",
              "      <td>{'MV': 4.378258399207143e+35}</td>\n",
              "    </tr>\n",
              "    <tr>\n",
              "      <th>segment_3</th>\n",
              "      <td>{'MV': inf}</td>\n",
              "    </tr>\n",
              "    <tr>\n",
              "      <th>segment_2</th>\n",
              "      <td>{'MV': 1.2514952674968658e+36}</td>\n",
              "    </tr>\n",
              "    <tr>\n",
              "      <th>segment_4</th>\n",
              "      <td>{'MV': inf}</td>\n",
              "    </tr>\n",
              "    <tr>\n",
              "      <th>segment_5</th>\n",
              "      <td>{'MV': inf}</td>\n",
              "    </tr>\n",
              "    <tr>\n",
              "      <th>segment_6</th>\n",
              "      <td>{'MV': 1.251157765180554e+36}</td>\n",
              "    </tr>\n",
              "    <tr>\n",
              "      <th>segment_7</th>\n",
              "      <td>{'MV': 5.6296031896835176e+16}</td>\n",
              "    </tr>\n",
              "    <tr>\n",
              "      <th>segment_8</th>\n",
              "      <td>{'MV': 8605.047759483004}</td>\n",
              "    </tr>\n",
              "    <tr>\n",
              "      <th>segment_9</th>\n",
              "      <td>{'MV': 2923435.8555653417}</td>\n",
              "    </tr>\n",
              "    <tr>\n",
              "      <th>segment_10</th>\n",
              "      <td>{'MV': 90738.05533003059}</td>\n",
              "    </tr>\n",
              "    <tr>\n",
              "      <th>segment_11</th>\n",
              "      <td>{'MV': 8751.151198216805}</td>\n",
              "    </tr>\n",
              "  </tbody>\n",
              "</table>\n",
              "</div>"
            ],
            "text/plain": [
              "                                         Y\n",
              "segment_1    {'MV': 4.923978771161864e+34}\n",
              "segment_0    {'MV': 4.378258399207143e+35}\n",
              "segment_3                      {'MV': inf}\n",
              "segment_2   {'MV': 1.2514952674968658e+36}\n",
              "segment_4                      {'MV': inf}\n",
              "segment_5                      {'MV': inf}\n",
              "segment_6    {'MV': 1.251157765180554e+36}\n",
              "segment_7   {'MV': 5.6296031896835176e+16}\n",
              "segment_8        {'MV': 8605.047759483004}\n",
              "segment_9       {'MV': 2923435.8555653417}\n",
              "segment_10       {'MV': 90738.05533003059}\n",
              "segment_11       {'MV': 8751.151198216805}"
            ]
          },
          "metadata": {
            "tags": []
          },
          "execution_count": 20
        }
      ]
    },
    {
      "cell_type": "code",
      "metadata": {
        "id": "ngJSb_laM9sR",
        "colab": {
          "base_uri": "https://localhost:8080/",
          "height": 388
        },
        "outputId": "78068857-b022-407c-9ab2-9475a8a76045"
      },
      "source": [
        "pd.DataFrame(ARX.miso_ranks).T"
      ],
      "execution_count": null,
      "outputs": [
        {
          "output_type": "execute_result",
          "data": {
            "text/html": [
              "<div>\n",
              "<style scoped>\n",
              "    .dataframe tbody tr th:only-of-type {\n",
              "        vertical-align: middle;\n",
              "    }\n",
              "\n",
              "    .dataframe tbody tr th {\n",
              "        vertical-align: top;\n",
              "    }\n",
              "\n",
              "    .dataframe thead th {\n",
              "        text-align: right;\n",
              "    }\n",
              "</style>\n",
              "<table border=\"1\" class=\"dataframe\">\n",
              "  <thead>\n",
              "    <tr style=\"text-align: right;\">\n",
              "      <th></th>\n",
              "      <th>Y</th>\n",
              "    </tr>\n",
              "  </thead>\n",
              "  <tbody>\n",
              "    <tr>\n",
              "      <th>segment_1</th>\n",
              "      <td>{'MV': 1}</td>\n",
              "    </tr>\n",
              "    <tr>\n",
              "      <th>segment_2</th>\n",
              "      <td>{'MV': 1}</td>\n",
              "    </tr>\n",
              "    <tr>\n",
              "      <th>segment_0</th>\n",
              "      <td>{'MV': 1}</td>\n",
              "    </tr>\n",
              "    <tr>\n",
              "      <th>segment_3</th>\n",
              "      <td>{'MV': 1}</td>\n",
              "    </tr>\n",
              "    <tr>\n",
              "      <th>segment_4</th>\n",
              "      <td>{'MV': 1}</td>\n",
              "    </tr>\n",
              "    <tr>\n",
              "      <th>segment_5</th>\n",
              "      <td>{'MV': 1}</td>\n",
              "    </tr>\n",
              "    <tr>\n",
              "      <th>segment_7</th>\n",
              "      <td>{'MV': 1}</td>\n",
              "    </tr>\n",
              "    <tr>\n",
              "      <th>segment_6</th>\n",
              "      <td>{'MV': 1}</td>\n",
              "    </tr>\n",
              "    <tr>\n",
              "      <th>segment_8</th>\n",
              "      <td>{'MV': 2}</td>\n",
              "    </tr>\n",
              "    <tr>\n",
              "      <th>segment_10</th>\n",
              "      <td>{'MV': 2}</td>\n",
              "    </tr>\n",
              "    <tr>\n",
              "      <th>segment_9</th>\n",
              "      <td>{'MV': 1}</td>\n",
              "    </tr>\n",
              "    <tr>\n",
              "      <th>segment_11</th>\n",
              "      <td>{'MV': 2}</td>\n",
              "    </tr>\n",
              "  </tbody>\n",
              "</table>\n",
              "</div>"
            ],
            "text/plain": [
              "                    Y\n",
              "segment_1   {'MV': 1}\n",
              "segment_2   {'MV': 1}\n",
              "segment_0   {'MV': 1}\n",
              "segment_3   {'MV': 1}\n",
              "segment_4   {'MV': 1}\n",
              "segment_5   {'MV': 1}\n",
              "segment_7   {'MV': 1}\n",
              "segment_6   {'MV': 1}\n",
              "segment_8   {'MV': 2}\n",
              "segment_10  {'MV': 2}\n",
              "segment_9   {'MV': 1}\n",
              "segment_11  {'MV': 2}"
            ]
          },
          "metadata": {
            "tags": []
          },
          "execution_count": 21
        }
      ]
    },
    {
      "cell_type": "code",
      "metadata": {
        "id": "8NCFopWNNEwN",
        "colab": {
          "base_uri": "https://localhost:8080/",
          "height": 388
        },
        "outputId": "42c0364b-4e64-4f8e-b143-d80daaf4a262"
      },
      "source": [
        "pd.DataFrame(ARX.miso_correlations).T"
      ],
      "execution_count": null,
      "outputs": [
        {
          "output_type": "execute_result",
          "data": {
            "text/html": [
              "<div>\n",
              "<style scoped>\n",
              "    .dataframe tbody tr th:only-of-type {\n",
              "        vertical-align: middle;\n",
              "    }\n",
              "\n",
              "    .dataframe tbody tr th {\n",
              "        vertical-align: top;\n",
              "    }\n",
              "\n",
              "    .dataframe thead th {\n",
              "        text-align: right;\n",
              "    }\n",
              "</style>\n",
              "<table border=\"1\" class=\"dataframe\">\n",
              "  <thead>\n",
              "    <tr style=\"text-align: right;\">\n",
              "      <th></th>\n",
              "      <th>Y</th>\n",
              "    </tr>\n",
              "  </thead>\n",
              "  <tbody>\n",
              "    <tr>\n",
              "      <th>segment_0</th>\n",
              "      <td>{'MV': 0}</td>\n",
              "    </tr>\n",
              "    <tr>\n",
              "      <th>segment_1</th>\n",
              "      <td>{'MV': 0.0004411111890648134}</td>\n",
              "    </tr>\n",
              "    <tr>\n",
              "      <th>segment_3</th>\n",
              "      <td>{'MV': 0.0007928028091130663}</td>\n",
              "    </tr>\n",
              "    <tr>\n",
              "      <th>segment_2</th>\n",
              "      <td>{'MV': 0.00019447120903281213}</td>\n",
              "    </tr>\n",
              "    <tr>\n",
              "      <th>segment_4</th>\n",
              "      <td>{'MV': 0}</td>\n",
              "    </tr>\n",
              "    <tr>\n",
              "      <th>segment_5</th>\n",
              "      <td>{'MV': 0.0002427565194888681}</td>\n",
              "    </tr>\n",
              "    <tr>\n",
              "      <th>segment_6</th>\n",
              "      <td>{'MV': 0.0003967860870203677}</td>\n",
              "    </tr>\n",
              "    <tr>\n",
              "      <th>segment_8</th>\n",
              "      <td>{'MV': 5.040144720279292}</td>\n",
              "    </tr>\n",
              "    <tr>\n",
              "      <th>segment_9</th>\n",
              "      <td>{'MV': 5.299060921082418}</td>\n",
              "    </tr>\n",
              "    <tr>\n",
              "      <th>segment_7</th>\n",
              "      <td>{'MV': 0.0005898562718591599}</td>\n",
              "    </tr>\n",
              "    <tr>\n",
              "      <th>segment_10</th>\n",
              "      <td>{'MV': 4.447373934539286}</td>\n",
              "    </tr>\n",
              "    <tr>\n",
              "      <th>segment_11</th>\n",
              "      <td>{'MV': 5.076655201314719}</td>\n",
              "    </tr>\n",
              "  </tbody>\n",
              "</table>\n",
              "</div>"
            ],
            "text/plain": [
              "                                         Y\n",
              "segment_0                        {'MV': 0}\n",
              "segment_1    {'MV': 0.0004411111890648134}\n",
              "segment_3    {'MV': 0.0007928028091130663}\n",
              "segment_2   {'MV': 0.00019447120903281213}\n",
              "segment_4                        {'MV': 0}\n",
              "segment_5    {'MV': 0.0002427565194888681}\n",
              "segment_6    {'MV': 0.0003967860870203677}\n",
              "segment_8        {'MV': 5.040144720279292}\n",
              "segment_9        {'MV': 5.299060921082418}\n",
              "segment_7    {'MV': 0.0005898562718591599}\n",
              "segment_10       {'MV': 4.447373934539286}\n",
              "segment_11       {'MV': 5.076655201314719}"
            ]
          },
          "metadata": {
            "tags": []
          },
          "execution_count": 22
        }
      ]
    },
    {
      "cell_type": "code",
      "metadata": {
        "id": "FCrqxpzTNG-b"
      },
      "source": [
        "ARX = ARXStructure(\n",
        "        nx=30,\n",
        "        ny=30,\n",
        "        nk=1,\n",
        "        delay=0,\n",
        "        cc_alpha=0.05,\n",
        "        initial_intervals=EW.unified_intervals,\n",
        "        efr_type='type_2',\n",
        "        sv_thr=0.01,\n",
        "        n_jobs = -1,\n",
        "        verbose = 0\n",
        "        )"
      ],
      "execution_count": null,
      "outputs": []
    },
    {
      "cell_type": "code",
      "metadata": {
        "id": "or3_dKPVNNAg"
      },
      "source": [
        "ARX.fit(X=df[['MV']], y=df[['Y']], sp=df[['SP']]);"
      ],
      "execution_count": null,
      "outputs": []
    },
    {
      "cell_type": "code",
      "metadata": {
        "id": "oifufA8nNOc3",
        "colab": {
          "base_uri": "https://localhost:8080/",
          "height": 388
        },
        "outputId": "3c62981e-bb9b-40b2-e7b4-4b1f6eaabb1c"
      },
      "source": [
        "pd.DataFrame(ARX.miso_ranks).T"
      ],
      "execution_count": null,
      "outputs": [
        {
          "output_type": "execute_result",
          "data": {
            "text/html": [
              "<div>\n",
              "<style scoped>\n",
              "    .dataframe tbody tr th:only-of-type {\n",
              "        vertical-align: middle;\n",
              "    }\n",
              "\n",
              "    .dataframe tbody tr th {\n",
              "        vertical-align: top;\n",
              "    }\n",
              "\n",
              "    .dataframe thead th {\n",
              "        text-align: right;\n",
              "    }\n",
              "</style>\n",
              "<table border=\"1\" class=\"dataframe\">\n",
              "  <thead>\n",
              "    <tr style=\"text-align: right;\">\n",
              "      <th></th>\n",
              "      <th>Y</th>\n",
              "    </tr>\n",
              "  </thead>\n",
              "  <tbody>\n",
              "    <tr>\n",
              "      <th>segment_1</th>\n",
              "      <td>{'MV': 4}</td>\n",
              "    </tr>\n",
              "    <tr>\n",
              "      <th>segment_0</th>\n",
              "      <td>{'MV': 3}</td>\n",
              "    </tr>\n",
              "    <tr>\n",
              "      <th>segment_2</th>\n",
              "      <td>{'MV': 3}</td>\n",
              "    </tr>\n",
              "    <tr>\n",
              "      <th>segment_3</th>\n",
              "      <td>{'MV': 4}</td>\n",
              "    </tr>\n",
              "    <tr>\n",
              "      <th>segment_5</th>\n",
              "      <td>{'MV': 4}</td>\n",
              "    </tr>\n",
              "    <tr>\n",
              "      <th>segment_4</th>\n",
              "      <td>{'MV': 4}</td>\n",
              "    </tr>\n",
              "    <tr>\n",
              "      <th>segment_6</th>\n",
              "      <td>{'MV': 3}</td>\n",
              "    </tr>\n",
              "    <tr>\n",
              "      <th>segment_7</th>\n",
              "      <td>{'MV': 3}</td>\n",
              "    </tr>\n",
              "    <tr>\n",
              "      <th>segment_8</th>\n",
              "      <td>{'MV': 29}</td>\n",
              "    </tr>\n",
              "    <tr>\n",
              "      <th>segment_9</th>\n",
              "      <td>{'MV': 8}</td>\n",
              "    </tr>\n",
              "    <tr>\n",
              "      <th>segment_10</th>\n",
              "      <td>{'MV': 9}</td>\n",
              "    </tr>\n",
              "    <tr>\n",
              "      <th>segment_11</th>\n",
              "      <td>{'MV': 29}</td>\n",
              "    </tr>\n",
              "  </tbody>\n",
              "</table>\n",
              "</div>"
            ],
            "text/plain": [
              "                     Y\n",
              "segment_1    {'MV': 4}\n",
              "segment_0    {'MV': 3}\n",
              "segment_2    {'MV': 3}\n",
              "segment_3    {'MV': 4}\n",
              "segment_5    {'MV': 4}\n",
              "segment_4    {'MV': 4}\n",
              "segment_6    {'MV': 3}\n",
              "segment_7    {'MV': 3}\n",
              "segment_8   {'MV': 29}\n",
              "segment_9    {'MV': 8}\n",
              "segment_10   {'MV': 9}\n",
              "segment_11  {'MV': 29}"
            ]
          },
          "metadata": {
            "tags": []
          },
          "execution_count": 25
        }
      ]
    },
    {
      "cell_type": "markdown",
      "metadata": {
        "id": "xgJfSNJkNoTi"
      },
      "source": [
        "### **3.2 Case 2: num_previous_indexes = 1**"
      ]
    },
    {
      "cell_type": "code",
      "metadata": {
        "id": "IF9fySjTNPqb"
      },
      "source": [
        "EW = ExponentiallyWeighted(\n",
        "        forgetting_fact_v = np.array([0.006,0.006]),\n",
        "        forgetting_fact_u = np.array([0.006,0.006]),\n",
        "        H_v = [0.003,0.003],\n",
        "        num_previous_indexes=20,\n",
        "        min_input_coupling=1,\n",
        "        min_output_coupling=1,\n",
        "        verbose=0,\n",
        "        n_jobs=-1)\n",
        "\n",
        "EW.fit(X=df[['SP']], y=df[['Y']]);"
      ],
      "execution_count": null,
      "outputs": []
    },
    {
      "cell_type": "code",
      "metadata": {
        "id": "FoIHL-X0NsYI"
      },
      "source": [
        "ARX = ARXStructure(\n",
        "        nx=2,\n",
        "        ny=2,\n",
        "        nk=1,\n",
        "        delay=5,\n",
        "        cc_alpha=0.05,\n",
        "        initial_intervals=EW.unified_intervals,\n",
        "        efr_type='type_2',\n",
        "        sv_thr=0.8,\n",
        "        n_jobs = -1,\n",
        "        verbose = 0\n",
        "        )"
      ],
      "execution_count": null,
      "outputs": []
    },
    {
      "cell_type": "code",
      "metadata": {
        "id": "hynysZzlNxHI"
      },
      "source": [
        "ARX.fit(X=df[['MV']], y=df[['Y']], sp=df[['SP']]);"
      ],
      "execution_count": null,
      "outputs": []
    },
    {
      "cell_type": "code",
      "metadata": {
        "id": "0avDerOgNyWA",
        "colab": {
          "base_uri": "https://localhost:8080/",
          "height": 388
        },
        "outputId": "b7b59adb-45ae-4493-da5d-7d1decf1a8db"
      },
      "source": [
        "pd.DataFrame(ARX.cond_num_dict).T"
      ],
      "execution_count": null,
      "outputs": [
        {
          "output_type": "execute_result",
          "data": {
            "text/html": [
              "<div>\n",
              "<style scoped>\n",
              "    .dataframe tbody tr th:only-of-type {\n",
              "        vertical-align: middle;\n",
              "    }\n",
              "\n",
              "    .dataframe tbody tr th {\n",
              "        vertical-align: top;\n",
              "    }\n",
              "\n",
              "    .dataframe thead th {\n",
              "        text-align: right;\n",
              "    }\n",
              "</style>\n",
              "<table border=\"1\" class=\"dataframe\">\n",
              "  <thead>\n",
              "    <tr style=\"text-align: right;\">\n",
              "      <th></th>\n",
              "      <th>Y</th>\n",
              "    </tr>\n",
              "  </thead>\n",
              "  <tbody>\n",
              "    <tr>\n",
              "      <th>segment_0</th>\n",
              "      <td>{'MV': 8455.357255355151}</td>\n",
              "    </tr>\n",
              "    <tr>\n",
              "      <th>segment_1</th>\n",
              "      <td>{'MV': 1086.2176570362524}</td>\n",
              "    </tr>\n",
              "    <tr>\n",
              "      <th>segment_3</th>\n",
              "      <td>{'MV': 2192.26205015378}</td>\n",
              "    </tr>\n",
              "    <tr>\n",
              "      <th>segment_2</th>\n",
              "      <td>{'MV': 28595.357194361502}</td>\n",
              "    </tr>\n",
              "    <tr>\n",
              "      <th>segment_4</th>\n",
              "      <td>{'MV': 8392.84013901059}</td>\n",
              "    </tr>\n",
              "    <tr>\n",
              "      <th>segment_5</th>\n",
              "      <td>{'MV': 1267.9198266442727}</td>\n",
              "    </tr>\n",
              "    <tr>\n",
              "      <th>segment_6</th>\n",
              "      <td>{'MV': 23639.53761227582}</td>\n",
              "    </tr>\n",
              "    <tr>\n",
              "      <th>segment_7</th>\n",
              "      <td>{'MV': 2172.767301206683}</td>\n",
              "    </tr>\n",
              "    <tr>\n",
              "      <th>segment_8</th>\n",
              "      <td>{'MV': 8499.422706346228}</td>\n",
              "    </tr>\n",
              "    <tr>\n",
              "      <th>segment_9</th>\n",
              "      <td>{'MV': 2911734.807409903}</td>\n",
              "    </tr>\n",
              "    <tr>\n",
              "      <th>segment_11</th>\n",
              "      <td>{'MV': 8689.384643127825}</td>\n",
              "    </tr>\n",
              "    <tr>\n",
              "      <th>segment_10</th>\n",
              "      <td>{'MV': 3557.511031417783}</td>\n",
              "    </tr>\n",
              "  </tbody>\n",
              "</table>\n",
              "</div>"
            ],
            "text/plain": [
              "                                     Y\n",
              "segment_0    {'MV': 8455.357255355151}\n",
              "segment_1   {'MV': 1086.2176570362524}\n",
              "segment_3     {'MV': 2192.26205015378}\n",
              "segment_2   {'MV': 28595.357194361502}\n",
              "segment_4     {'MV': 8392.84013901059}\n",
              "segment_5   {'MV': 1267.9198266442727}\n",
              "segment_6    {'MV': 23639.53761227582}\n",
              "segment_7    {'MV': 2172.767301206683}\n",
              "segment_8    {'MV': 8499.422706346228}\n",
              "segment_9    {'MV': 2911734.807409903}\n",
              "segment_11   {'MV': 8689.384643127825}\n",
              "segment_10   {'MV': 3557.511031417783}"
            ]
          },
          "metadata": {
            "tags": []
          },
          "execution_count": 31
        }
      ]
    },
    {
      "cell_type": "code",
      "metadata": {
        "id": "k18cAoSLNzef",
        "colab": {
          "base_uri": "https://localhost:8080/",
          "height": 388
        },
        "outputId": "14c5c49f-4b8a-4bc5-8ab2-e32f2d610449"
      },
      "source": [
        "pd.DataFrame(ARX.miso_ranks).T"
      ],
      "execution_count": null,
      "outputs": [
        {
          "output_type": "execute_result",
          "data": {
            "text/html": [
              "<div>\n",
              "<style scoped>\n",
              "    .dataframe tbody tr th:only-of-type {\n",
              "        vertical-align: middle;\n",
              "    }\n",
              "\n",
              "    .dataframe tbody tr th {\n",
              "        vertical-align: top;\n",
              "    }\n",
              "\n",
              "    .dataframe thead th {\n",
              "        text-align: right;\n",
              "    }\n",
              "</style>\n",
              "<table border=\"1\" class=\"dataframe\">\n",
              "  <thead>\n",
              "    <tr style=\"text-align: right;\">\n",
              "      <th></th>\n",
              "      <th>Y</th>\n",
              "    </tr>\n",
              "  </thead>\n",
              "  <tbody>\n",
              "    <tr>\n",
              "      <th>segment_1</th>\n",
              "      <td>{'MV': 2}</td>\n",
              "    </tr>\n",
              "    <tr>\n",
              "      <th>segment_0</th>\n",
              "      <td>{'MV': 2}</td>\n",
              "    </tr>\n",
              "    <tr>\n",
              "      <th>segment_2</th>\n",
              "      <td>{'MV': 2}</td>\n",
              "    </tr>\n",
              "    <tr>\n",
              "      <th>segment_3</th>\n",
              "      <td>{'MV': 1}</td>\n",
              "    </tr>\n",
              "    <tr>\n",
              "      <th>segment_4</th>\n",
              "      <td>{'MV': 2}</td>\n",
              "    </tr>\n",
              "    <tr>\n",
              "      <th>segment_5</th>\n",
              "      <td>{'MV': 2}</td>\n",
              "    </tr>\n",
              "    <tr>\n",
              "      <th>segment_6</th>\n",
              "      <td>{'MV': 2}</td>\n",
              "    </tr>\n",
              "    <tr>\n",
              "      <th>segment_7</th>\n",
              "      <td>{'MV': 1}</td>\n",
              "    </tr>\n",
              "    <tr>\n",
              "      <th>segment_8</th>\n",
              "      <td>{'MV': 2}</td>\n",
              "    </tr>\n",
              "    <tr>\n",
              "      <th>segment_10</th>\n",
              "      <td>{'MV': 2}</td>\n",
              "    </tr>\n",
              "    <tr>\n",
              "      <th>segment_9</th>\n",
              "      <td>{'MV': 1}</td>\n",
              "    </tr>\n",
              "    <tr>\n",
              "      <th>segment_11</th>\n",
              "      <td>{'MV': 2}</td>\n",
              "    </tr>\n",
              "  </tbody>\n",
              "</table>\n",
              "</div>"
            ],
            "text/plain": [
              "                    Y\n",
              "segment_1   {'MV': 2}\n",
              "segment_0   {'MV': 2}\n",
              "segment_2   {'MV': 2}\n",
              "segment_3   {'MV': 1}\n",
              "segment_4   {'MV': 2}\n",
              "segment_5   {'MV': 2}\n",
              "segment_6   {'MV': 2}\n",
              "segment_7   {'MV': 1}\n",
              "segment_8   {'MV': 2}\n",
              "segment_10  {'MV': 2}\n",
              "segment_9   {'MV': 1}\n",
              "segment_11  {'MV': 2}"
            ]
          },
          "metadata": {
            "tags": []
          },
          "execution_count": 32
        }
      ]
    },
    {
      "cell_type": "code",
      "metadata": {
        "id": "j7l6ZBlGN1cL",
        "colab": {
          "base_uri": "https://localhost:8080/",
          "height": 388
        },
        "outputId": "c116cbb8-c180-4250-bccb-f247dda3cd9b"
      },
      "source": [
        "pd.DataFrame(ARX.chi_squared_dict).T"
      ],
      "execution_count": null,
      "outputs": [
        {
          "output_type": "execute_result",
          "data": {
            "text/html": [
              "<div>\n",
              "<style scoped>\n",
              "    .dataframe tbody tr th:only-of-type {\n",
              "        vertical-align: middle;\n",
              "    }\n",
              "\n",
              "    .dataframe tbody tr th {\n",
              "        vertical-align: top;\n",
              "    }\n",
              "\n",
              "    .dataframe thead th {\n",
              "        text-align: right;\n",
              "    }\n",
              "</style>\n",
              "<table border=\"1\" class=\"dataframe\">\n",
              "  <thead>\n",
              "    <tr style=\"text-align: right;\">\n",
              "      <th></th>\n",
              "      <th>Y</th>\n",
              "    </tr>\n",
              "  </thead>\n",
              "  <tbody>\n",
              "    <tr>\n",
              "      <th>segment_1</th>\n",
              "      <td>{'MV': 555.8463635265143}</td>\n",
              "    </tr>\n",
              "    <tr>\n",
              "      <th>segment_2</th>\n",
              "      <td>{'MV': 493.2339293757339}</td>\n",
              "    </tr>\n",
              "    <tr>\n",
              "      <th>segment_3</th>\n",
              "      <td>{'MV': 712.8200921517017}</td>\n",
              "    </tr>\n",
              "    <tr>\n",
              "      <th>segment_4</th>\n",
              "      <td>{'MV': 494.18150803637326}</td>\n",
              "    </tr>\n",
              "    <tr>\n",
              "      <th>segment_5</th>\n",
              "      <td>{'MV': 512.6759636754637}</td>\n",
              "    </tr>\n",
              "    <tr>\n",
              "      <th>segment_6</th>\n",
              "      <td>{'MV': 500.99493463856015}</td>\n",
              "    </tr>\n",
              "    <tr>\n",
              "      <th>segment_7</th>\n",
              "      <td>{'MV': 750.6446253014134}</td>\n",
              "    </tr>\n",
              "    <tr>\n",
              "      <th>segment_8</th>\n",
              "      <td>{'MV': 4765.946852305125}</td>\n",
              "    </tr>\n",
              "    <tr>\n",
              "      <th>segment_9</th>\n",
              "      <td>{'MV': 4356.517135081461}</td>\n",
              "    </tr>\n",
              "    <tr>\n",
              "      <th>segment_0</th>\n",
              "      <td>{'MV': 464.50191730138806}</td>\n",
              "    </tr>\n",
              "    <tr>\n",
              "      <th>segment_10</th>\n",
              "      <td>{'MV': 1429.0883949177046}</td>\n",
              "    </tr>\n",
              "    <tr>\n",
              "      <th>segment_11</th>\n",
              "      <td>{'MV': 5890.087964583711}</td>\n",
              "    </tr>\n",
              "  </tbody>\n",
              "</table>\n",
              "</div>"
            ],
            "text/plain": [
              "                                     Y\n",
              "segment_1    {'MV': 555.8463635265143}\n",
              "segment_2    {'MV': 493.2339293757339}\n",
              "segment_3    {'MV': 712.8200921517017}\n",
              "segment_4   {'MV': 494.18150803637326}\n",
              "segment_5    {'MV': 512.6759636754637}\n",
              "segment_6   {'MV': 500.99493463856015}\n",
              "segment_7    {'MV': 750.6446253014134}\n",
              "segment_8    {'MV': 4765.946852305125}\n",
              "segment_9    {'MV': 4356.517135081461}\n",
              "segment_0   {'MV': 464.50191730138806}\n",
              "segment_10  {'MV': 1429.0883949177046}\n",
              "segment_11   {'MV': 5890.087964583711}"
            ]
          },
          "metadata": {
            "tags": []
          },
          "execution_count": 33
        }
      ]
    },
    {
      "cell_type": "code",
      "metadata": {
        "id": "oASKNyEKN6Xk",
        "colab": {
          "base_uri": "https://localhost:8080/",
          "height": 388
        },
        "outputId": "d6a6f55e-4fe0-4883-812d-2d15ecf86bfa"
      },
      "source": [
        "pd.DataFrame(ARX.miso_correlations).T"
      ],
      "execution_count": null,
      "outputs": [
        {
          "output_type": "execute_result",
          "data": {
            "text/html": [
              "<div>\n",
              "<style scoped>\n",
              "    .dataframe tbody tr th:only-of-type {\n",
              "        vertical-align: middle;\n",
              "    }\n",
              "\n",
              "    .dataframe tbody tr th {\n",
              "        vertical-align: top;\n",
              "    }\n",
              "\n",
              "    .dataframe thead th {\n",
              "        text-align: right;\n",
              "    }\n",
              "</style>\n",
              "<table border=\"1\" class=\"dataframe\">\n",
              "  <thead>\n",
              "    <tr style=\"text-align: right;\">\n",
              "      <th></th>\n",
              "      <th>Y</th>\n",
              "    </tr>\n",
              "  </thead>\n",
              "  <tbody>\n",
              "    <tr>\n",
              "      <th>segment_0</th>\n",
              "      <td>{'MV': 3.859635520024193}</td>\n",
              "    </tr>\n",
              "    <tr>\n",
              "      <th>segment_1</th>\n",
              "      <td>{'MV': 3.8605613576952362}</td>\n",
              "    </tr>\n",
              "    <tr>\n",
              "      <th>segment_2</th>\n",
              "      <td>{'MV': 3.871429094409292}</td>\n",
              "    </tr>\n",
              "    <tr>\n",
              "      <th>segment_4</th>\n",
              "      <td>{'MV': 3.869144043918307}</td>\n",
              "    </tr>\n",
              "    <tr>\n",
              "      <th>segment_3</th>\n",
              "      <td>{'MV': 3.8674063186660232}</td>\n",
              "    </tr>\n",
              "    <tr>\n",
              "      <th>segment_5</th>\n",
              "      <td>{'MV': 3.867896666465911}</td>\n",
              "    </tr>\n",
              "    <tr>\n",
              "      <th>segment_6</th>\n",
              "      <td>{'MV': 3.8655151140805692}</td>\n",
              "    </tr>\n",
              "    <tr>\n",
              "      <th>segment_7</th>\n",
              "      <td>{'MV': 3.862510035315409}</td>\n",
              "    </tr>\n",
              "    <tr>\n",
              "      <th>segment_8</th>\n",
              "      <td>{'MV': 5.029504489592242}</td>\n",
              "    </tr>\n",
              "    <tr>\n",
              "      <th>segment_10</th>\n",
              "      <td>{'MV': 4.395319158576444}</td>\n",
              "    </tr>\n",
              "    <tr>\n",
              "      <th>segment_9</th>\n",
              "      <td>{'MV': 5.300152340936431}</td>\n",
              "    </tr>\n",
              "    <tr>\n",
              "      <th>segment_11</th>\n",
              "      <td>{'MV': 5.067233858552747}</td>\n",
              "    </tr>\n",
              "  </tbody>\n",
              "</table>\n",
              "</div>"
            ],
            "text/plain": [
              "                                     Y\n",
              "segment_0    {'MV': 3.859635520024193}\n",
              "segment_1   {'MV': 3.8605613576952362}\n",
              "segment_2    {'MV': 3.871429094409292}\n",
              "segment_4    {'MV': 3.869144043918307}\n",
              "segment_3   {'MV': 3.8674063186660232}\n",
              "segment_5    {'MV': 3.867896666465911}\n",
              "segment_6   {'MV': 3.8655151140805692}\n",
              "segment_7    {'MV': 3.862510035315409}\n",
              "segment_8    {'MV': 5.029504489592242}\n",
              "segment_10   {'MV': 4.395319158576444}\n",
              "segment_9    {'MV': 5.300152340936431}\n",
              "segment_11   {'MV': 5.067233858552747}"
            ]
          },
          "metadata": {
            "tags": []
          },
          "execution_count": 34
        }
      ]
    },
    {
      "cell_type": "code",
      "metadata": {
        "id": "P66QYyWLOC6W"
      },
      "source": [
        "ARX = ARXStructure(\n",
        "          nx=30,\n",
        "          ny=30,\n",
        "          nk=1,\n",
        "          delay=5,\n",
        "          cc_alpha=0.05,\n",
        "          initial_intervals=EW.unified_intervals,\n",
        "          efr_type='type_2',\n",
        "          sv_thr=0.01,\n",
        "          n_jobs = -1,\n",
        "          verbose = 0\n",
        "          )"
      ],
      "execution_count": null,
      "outputs": []
    },
    {
      "cell_type": "code",
      "metadata": {
        "id": "ei1_vQcHOGr8"
      },
      "source": [
        "ARX.fit(X=df[['MV']], y=df[['Y']], sp=df[['SP']]);"
      ],
      "execution_count": null,
      "outputs": []
    },
    {
      "cell_type": "code",
      "metadata": {
        "id": "-Eul_0IZOID8",
        "colab": {
          "base_uri": "https://localhost:8080/",
          "height": 388
        },
        "outputId": "29a03a9b-d088-4fb9-a3cb-8699f615ee73"
      },
      "source": [
        "pd.DataFrame(ARX.miso_ranks).T"
      ],
      "execution_count": null,
      "outputs": [
        {
          "output_type": "execute_result",
          "data": {
            "text/html": [
              "<div>\n",
              "<style scoped>\n",
              "    .dataframe tbody tr th:only-of-type {\n",
              "        vertical-align: middle;\n",
              "    }\n",
              "\n",
              "    .dataframe tbody tr th {\n",
              "        vertical-align: top;\n",
              "    }\n",
              "\n",
              "    .dataframe thead th {\n",
              "        text-align: right;\n",
              "    }\n",
              "</style>\n",
              "<table border=\"1\" class=\"dataframe\">\n",
              "  <thead>\n",
              "    <tr style=\"text-align: right;\">\n",
              "      <th></th>\n",
              "      <th>Y</th>\n",
              "    </tr>\n",
              "  </thead>\n",
              "  <tbody>\n",
              "    <tr>\n",
              "      <th>segment_0</th>\n",
              "      <td>{'MV': 16}</td>\n",
              "    </tr>\n",
              "    <tr>\n",
              "      <th>segment_1</th>\n",
              "      <td>{'MV': 18}</td>\n",
              "    </tr>\n",
              "    <tr>\n",
              "      <th>segment_3</th>\n",
              "      <td>{'MV': 17}</td>\n",
              "    </tr>\n",
              "    <tr>\n",
              "      <th>segment_2</th>\n",
              "      <td>{'MV': 16}</td>\n",
              "    </tr>\n",
              "    <tr>\n",
              "      <th>segment_5</th>\n",
              "      <td>{'MV': 17}</td>\n",
              "    </tr>\n",
              "    <tr>\n",
              "      <th>segment_4</th>\n",
              "      <td>{'MV': 16}</td>\n",
              "    </tr>\n",
              "    <tr>\n",
              "      <th>segment_6</th>\n",
              "      <td>{'MV': 16}</td>\n",
              "    </tr>\n",
              "    <tr>\n",
              "      <th>segment_7</th>\n",
              "      <td>{'MV': 16}</td>\n",
              "    </tr>\n",
              "    <tr>\n",
              "      <th>segment_8</th>\n",
              "      <td>{'MV': 29}</td>\n",
              "    </tr>\n",
              "    <tr>\n",
              "      <th>segment_9</th>\n",
              "      <td>{'MV': 8}</td>\n",
              "    </tr>\n",
              "    <tr>\n",
              "      <th>segment_10</th>\n",
              "      <td>{'MV': 11}</td>\n",
              "    </tr>\n",
              "    <tr>\n",
              "      <th>segment_11</th>\n",
              "      <td>{'MV': 30}</td>\n",
              "    </tr>\n",
              "  </tbody>\n",
              "</table>\n",
              "</div>"
            ],
            "text/plain": [
              "                     Y\n",
              "segment_0   {'MV': 16}\n",
              "segment_1   {'MV': 18}\n",
              "segment_3   {'MV': 17}\n",
              "segment_2   {'MV': 16}\n",
              "segment_5   {'MV': 17}\n",
              "segment_4   {'MV': 16}\n",
              "segment_6   {'MV': 16}\n",
              "segment_7   {'MV': 16}\n",
              "segment_8   {'MV': 29}\n",
              "segment_9    {'MV': 8}\n",
              "segment_10  {'MV': 11}\n",
              "segment_11  {'MV': 30}"
            ]
          },
          "metadata": {
            "tags": []
          },
          "execution_count": 37
        }
      ]
    }
  ]
}