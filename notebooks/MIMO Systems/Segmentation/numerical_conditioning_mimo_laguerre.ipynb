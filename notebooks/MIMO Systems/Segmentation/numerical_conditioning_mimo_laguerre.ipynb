{
  "nbformat": 4,
  "nbformat_minor": 0,
  "metadata": {
    "colab": {
      "name": "numerical_conditioning_mimo_laguerre.ipynb",
      "provenance": [],
      "collapsed_sections": [],
      "authorship_tag": "ABX9TyNt24xnHpZ4Kf4HP0un4w7a",
      "include_colab_link": true
    },
    "kernelspec": {
      "name": "python3",
      "display_name": "Python 3"
    }
  },
  "cells": [
    {
      "cell_type": "markdown",
      "metadata": {
        "id": "view-in-github",
        "colab_type": "text"
      },
      "source": [
        "<a href=\"https://colab.research.google.com/github/GiulioCMSanto/HDSIdent/blob/master/notebooks/MIMO%20Systems/Segmentation/numerical_conditioning_mimo_laguerre.ipynb\" target=\"_parent\"><img src=\"https://colab.research.google.com/assets/colab-badge.svg\" alt=\"Open In Colab\"/></a>"
      ]
    },
    {
      "cell_type": "markdown",
      "metadata": {
        "id": "8CTy2vo0rzZR"
      },
      "source": [
        "# Numerical Conditioning: MIMO Laguerre Approach\n",
        "\n",
        "[HDSIdent: Historical Data Segmentation for System Identification](https://github.com/GiulioCMSanto/HDSIdent)\n",
        "\n",
        "This notebook explores how to obtain intervals suitable for system identification through a numerical conditioning Laguerre Filter approach, considering multivariable systems.\n",
        "\n",
        "\n",
        "**NOTICE: this notebook, as well as the related dataset, is part of my masters dissertation, which was not yet published. Therefore, referencing is not permited until the work is available.**\n",
        "\n",
        "\n",
        "_**Related works**_:\n",
        "\n",
        "```\n",
        "PERETZKI, D. et al. Data mining of historic data for process identification.\n",
        "In: Proceedings of the 2011 AIChE Annual Meeting, p. 1027–1033, 2011.\n",
        "\n",
        "SHARDT, Y. A. W.; SHAH, S. L. Segmentation Methods for Model Identification from\n",
        "Historical Process Data. In: Proceedings of the 19th World Congress.\n",
        "Cape Town, South Africa: IFAC, 2014. p. 2836–2841.\n",
        "\n",
        "BITTENCOURT, A. C. et al. An algorithm for finding process identification\n",
        "intervals from normal operating data. Processes, v. 3, p. 357–383, 2015.\n",
        "\n",
        "PATEL, A. Data Mining of Process Data in Mutlivariable Systems.\n",
        "Degree project in electrical engineering — Royal Institute of Technology,\n",
        "Stockholm, Sweden, 2016.\n",
        "\n",
        "ARENGAS, D.; KROLL, A. A Search Method for Selecting Informative Data in Predominantly\n",
        "Stationary Historical Records for Multivariable System Identification.\n",
        "In: Proceedings of the 21st International Conference on System Theory,\n",
        "Control and Computing (ICSTCC). Sinaia, Romenia: IEEE, 2017a. p. 100–105.\n",
        "\n",
        "ARENGAS, D.; KROLL, A. Searching for informative intervals in predominantly stationary\n",
        "data records to support system identification. In: Proceedings of the XXVI International\n",
        "Conference on Information, Communication and Automation Technologies (ICAT). Sarajevo,\n",
        "Bosnia-Herzegovina: IEEE, 2017b.\n",
        "```\n",
        "\n",
        "\n"
      ]
    },
    {
      "cell_type": "code",
      "metadata": {
        "id": "FN4OPByxO5l2",
        "outputId": "848665e3-a639-46f6-f680-f5ad5455c4ff",
        "colab": {
          "base_uri": "https://localhost:8080/"
        }
      },
      "source": [
        "!git clone https://github.com/GiulioCMSanto/HDSIdent.git"
      ],
      "execution_count": null,
      "outputs": [
        {
          "output_type": "stream",
          "text": [
            "fatal: destination path 'HDSIdent' already exists and is not an empty directory.\n"
          ],
          "name": "stdout"
        }
      ]
    },
    {
      "cell_type": "code",
      "metadata": {
        "id": "14Cd790WO_V8",
        "outputId": "9108d48c-5a7d-40af-9b6a-27ab411382ca",
        "colab": {
          "base_uri": "https://localhost:8080/"
        }
      },
      "source": [
        "# Change into the directory for install\n",
        "%cd HDSIdent/"
      ],
      "execution_count": null,
      "outputs": [
        {
          "output_type": "stream",
          "text": [
            "[Errno 2] No such file or directory: 'HDSIdent/!python setup.py install'\n",
            "/content/HDSIdent\n"
          ],
          "name": "stdout"
        }
      ]
    },
    {
      "cell_type": "code",
      "metadata": {
        "id": "Hi0f1L7gPHxY",
        "outputId": "dc9f6e81-5b03-4602-b348-c77f2b14f87c",
        "colab": {
          "base_uri": "https://localhost:8080/"
        }
      },
      "source": [
        "!python setup.py install"
      ],
      "execution_count": null,
      "outputs": [
        {
          "output_type": "stream",
          "text": [
            "running install\n",
            "running bdist_egg\n",
            "running egg_info\n",
            "writing HDSIdent.egg-info/PKG-INFO\n",
            "writing dependency_links to HDSIdent.egg-info/dependency_links.txt\n",
            "writing requirements to HDSIdent.egg-info/requires.txt\n",
            "writing top-level names to HDSIdent.egg-info/top_level.txt\n",
            "writing manifest file 'HDSIdent.egg-info/SOURCES.txt'\n",
            "installing library code to build/bdist.linux-x86_64/egg\n",
            "running install_lib\n",
            "running build_py\n",
            "creating build/bdist.linux-x86_64/egg\n",
            "creating build/bdist.linux-x86_64/egg/HDSIdent\n",
            "copying build/lib/HDSIdent/__init__.py -> build/bdist.linux-x86_64/egg/HDSIdent\n",
            "byte-compiling build/bdist.linux-x86_64/egg/HDSIdent/__init__.py to __init__.cpython-36.pyc\n",
            "creating build/bdist.linux-x86_64/egg/EGG-INFO\n",
            "copying HDSIdent.egg-info/PKG-INFO -> build/bdist.linux-x86_64/egg/EGG-INFO\n",
            "copying HDSIdent.egg-info/SOURCES.txt -> build/bdist.linux-x86_64/egg/EGG-INFO\n",
            "copying HDSIdent.egg-info/dependency_links.txt -> build/bdist.linux-x86_64/egg/EGG-INFO\n",
            "copying HDSIdent.egg-info/requires.txt -> build/bdist.linux-x86_64/egg/EGG-INFO\n",
            "copying HDSIdent.egg-info/top_level.txt -> build/bdist.linux-x86_64/egg/EGG-INFO\n",
            "copying HDSIdent.egg-info/zip-safe -> build/bdist.linux-x86_64/egg/EGG-INFO\n",
            "creating 'dist/HDSIdent-0.0.2.0-py3.6.egg' and adding 'build/bdist.linux-x86_64/egg' to it\n",
            "removing 'build/bdist.linux-x86_64/egg' (and everything under it)\n",
            "Processing HDSIdent-0.0.2.0-py3.6.egg\n",
            "Removing /usr/local/lib/python3.6/dist-packages/HDSIdent-0.0.2.0-py3.6.egg\n",
            "Copying HDSIdent-0.0.2.0-py3.6.egg to /usr/local/lib/python3.6/dist-packages\n",
            "HDSIdent 0.0.2.0 is already the active version in easy-install.pth\n",
            "\n",
            "Installed /usr/local/lib/python3.6/dist-packages/HDSIdent-0.0.2.0-py3.6.egg\n",
            "Processing dependencies for HDSIdent==0.0.2.0\n",
            "Searching for sympy==1.1.1\n",
            "Best match: sympy 1.1.1\n",
            "Adding sympy 1.1.1 to easy-install.pth file\n",
            "\n",
            "Using /usr/local/lib/python3.6/dist-packages\n",
            "Searching for joblib==0.17.0\n",
            "Best match: joblib 0.17.0\n",
            "Adding joblib 0.17.0 to easy-install.pth file\n",
            "\n",
            "Using /usr/local/lib/python3.6/dist-packages\n",
            "Searching for seaborn==0.11.0\n",
            "Best match: seaborn 0.11.0\n",
            "Adding seaborn 0.11.0 to easy-install.pth file\n",
            "\n",
            "Using /usr/local/lib/python3.6/dist-packages\n",
            "Searching for matplotlib==3.2.2\n",
            "Best match: matplotlib 3.2.2\n",
            "Adding matplotlib 3.2.2 to easy-install.pth file\n",
            "\n",
            "Using /usr/local/lib/python3.6/dist-packages\n",
            "Searching for numpy==1.18.5\n",
            "Best match: numpy 1.18.5\n",
            "Adding numpy 1.18.5 to easy-install.pth file\n",
            "Installing f2py script to /usr/local/bin\n",
            "Installing f2py3 script to /usr/local/bin\n",
            "Installing f2py3.6 script to /usr/local/bin\n",
            "\n",
            "Using /usr/local/lib/python3.6/dist-packages\n",
            "Searching for pandas==1.1.4\n",
            "Best match: pandas 1.1.4\n",
            "Adding pandas 1.1.4 to easy-install.pth file\n",
            "\n",
            "Using /usr/local/lib/python3.6/dist-packages\n",
            "Searching for scipy==1.4.1\n",
            "Best match: scipy 1.4.1\n",
            "Adding scipy 1.4.1 to easy-install.pth file\n",
            "\n",
            "Using /usr/local/lib/python3.6/dist-packages\n",
            "Searching for scikit-learn==0.22.2.post1\n",
            "Best match: scikit-learn 0.22.2.post1\n",
            "Adding scikit-learn 0.22.2.post1 to easy-install.pth file\n",
            "\n",
            "Using /usr/local/lib/python3.6/dist-packages\n",
            "Searching for mpmath==1.1.0\n",
            "Best match: mpmath 1.1.0\n",
            "Adding mpmath 1.1.0 to easy-install.pth file\n",
            "\n",
            "Using /usr/local/lib/python3.6/dist-packages\n",
            "Searching for pyparsing==2.4.7\n",
            "Best match: pyparsing 2.4.7\n",
            "Adding pyparsing 2.4.7 to easy-install.pth file\n",
            "\n",
            "Using /usr/local/lib/python3.6/dist-packages\n",
            "Searching for kiwisolver==1.3.1\n",
            "Best match: kiwisolver 1.3.1\n",
            "Adding kiwisolver 1.3.1 to easy-install.pth file\n",
            "\n",
            "Using /usr/local/lib/python3.6/dist-packages\n",
            "Searching for cycler==0.10.0\n",
            "Best match: cycler 0.10.0\n",
            "Adding cycler 0.10.0 to easy-install.pth file\n",
            "\n",
            "Using /usr/local/lib/python3.6/dist-packages\n",
            "Searching for python-dateutil==2.8.1\n",
            "Best match: python-dateutil 2.8.1\n",
            "Adding python-dateutil 2.8.1 to easy-install.pth file\n",
            "\n",
            "Using /usr/local/lib/python3.6/dist-packages\n",
            "Searching for pytz==2018.9\n",
            "Best match: pytz 2018.9\n",
            "Adding pytz 2018.9 to easy-install.pth file\n",
            "\n",
            "Using /usr/local/lib/python3.6/dist-packages\n",
            "Searching for six==1.15.0\n",
            "Best match: six 1.15.0\n",
            "Adding six 1.15.0 to easy-install.pth file\n",
            "\n",
            "Using /usr/local/lib/python3.6/dist-packages\n",
            "Finished processing dependencies for HDSIdent==0.0.2.0\n"
          ],
          "name": "stdout"
        }
      ]
    },
    {
      "cell_type": "code",
      "metadata": {
        "id": "__KZwYwlPDGq"
      },
      "source": [
        "import pandas as pd\n",
        "import numpy as np\n",
        "from scipy.stats import chi2\n",
        "import matplotlib.pyplot as plt\n",
        "import seaborn as sns\n",
        "from time import time\n",
        "\n",
        "import plotly\n",
        "import plotly.graph_objects as go\n",
        "from plotly.offline import init_notebook_mode\n",
        "\n",
        "plotly.io.renderers.default = 'colab'\n",
        "\n",
        "%matplotlib inline\n",
        "sns.set_style('darkgrid')"
      ],
      "execution_count": null,
      "outputs": []
    },
    {
      "cell_type": "code",
      "metadata": {
        "id": "UAKS4RjHPI5E"
      },
      "source": [
        "from HDSIdent.data_treatment.data_preprocessing import Preprocessing\n",
        "from HDSIdent.initial_intervals.exponentially_weighted import ExponentiallyWeighted\n",
        "from HDSIdent.initial_intervals.bandpass_filter import BandpassFilter\n",
        "from HDSIdent.initial_intervals.sliding_window import SlidingWindow\n",
        "\n",
        "from HDSIdent.segmentation_methods.mimo_segmentation import MIMOSegmentation\n",
        "from HDSIdent.model_structures.ar_structure import ARStructure\n",
        "from HDSIdent.model_structures.arx_structure import ARXStructure\n",
        "from HDSIdent.model_structures.laguerre_filter import LaguerreStructure"
      ],
      "execution_count": null,
      "outputs": []
    },
    {
      "cell_type": "markdown",
      "metadata": {
        "id": "fguMLxwtPSFf"
      },
      "source": [
        "## **1. Read Data**"
      ]
    },
    {
      "cell_type": "code",
      "metadata": {
        "id": "Z_-eww7_PLXi"
      },
      "source": [
        "u1_url = \"https://raw.githubusercontent.com/GiulioCMSanto/HDSIdent/master/data/distillation_column/mimo_simu_u1.csv\"\n",
        "u2_url = \"https://raw.githubusercontent.com/GiulioCMSanto/HDSIdent/master/data/distillation_column/mimo_simu_u2.csv\"\n",
        "y1_url = \"https://raw.githubusercontent.com/GiulioCMSanto/HDSIdent/master/data/distillation_column/mimo_simu_y1.csv\"\n",
        "y2_url = \"https://raw.githubusercontent.com/GiulioCMSanto/HDSIdent/master/data/distillation_column/mimo_simu_y2.csv\""
      ],
      "execution_count": null,
      "outputs": []
    },
    {
      "cell_type": "code",
      "metadata": {
        "id": "nq7wJ0HjPwLH"
      },
      "source": [
        "u1 = pd.read_csv(u1_url, error_bad_lines=False, header=None)\n",
        "u2 = pd.read_csv(u2_url, error_bad_lines=False, header=None)\n",
        "y1 = pd.read_csv(y1_url, error_bad_lines=False, header=None)\n",
        "y2 = pd.read_csv(y2_url, error_bad_lines=False, header=None)"
      ],
      "execution_count": null,
      "outputs": []
    },
    {
      "cell_type": "markdown",
      "metadata": {
        "id": "SuyuK4c7P7MO"
      },
      "source": [
        "## **2. Data Preprocessing**"
      ]
    },
    {
      "cell_type": "code",
      "metadata": {
        "id": "pUG77dj1P4DH"
      },
      "source": [
        "pp = Preprocessing(\n",
        "        scaler='MinMaxScaler',\n",
        "        feature_range=(-0.5,0.5),\n",
        "        k=100);"
      ],
      "execution_count": null,
      "outputs": []
    },
    {
      "cell_type": "code",
      "metadata": {
        "id": "08dMbC_sP-b2"
      },
      "source": [
        "X_clean, Y_clean = pp.fit_transform(X=np.concatenate([u1,u2],axis=1),\n",
        "                                    y=np.concatenate([y1,y2],axis=1))"
      ],
      "execution_count": null,
      "outputs": []
    },
    {
      "cell_type": "markdown",
      "metadata": {
        "id": "wKSBFMNAQH-M"
      },
      "source": [
        "## **3. Define Potential Intervals - Exponentially Weighted Moving Average (EWMA) Filter**"
      ]
    },
    {
      "cell_type": "code",
      "metadata": {
        "id": "T47j_nFzP_Yi"
      },
      "source": [
        "df = pd.DataFrame()\n",
        "df['U1'] = np.squeeze(X_clean[:,0])\n",
        "df['U2'] = np.squeeze(X_clean[:,1])\n",
        "df['Y1'] = np.squeeze(Y_clean[:,0])\n",
        "df['Y2'] = np.squeeze(Y_clean[:,1])"
      ],
      "execution_count": null,
      "outputs": []
    },
    {
      "cell_type": "code",
      "metadata": {
        "id": "0w7i5Es0QNXK"
      },
      "source": [
        "EW = ExponentiallyWeighted(\n",
        "        forgetting_fact_v = np.array([0.006,0.006,0.006,0.006]),\n",
        "        forgetting_fact_u = np.array([0.006,0.006,0.006,0.006]),\n",
        "        H_v = [0.005,0.005,0.005,0.005],\n",
        "        num_previous_indexes=50,\n",
        "        verbose=0,\n",
        "        n_jobs=-1);\n",
        "\n",
        "EW.fit(X=df[['U1','U2']], y=df[['Y1','Y2']]);"
      ],
      "execution_count": null,
      "outputs": []
    },
    {
      "cell_type": "code",
      "metadata": {
        "id": "RfH_gMzDQTTx",
        "outputId": "06e90499-88f0-4379-97b4-1a365c16c729",
        "colab": {
          "base_uri": "https://localhost:8080/",
          "height": 729
        }
      },
      "source": [
        "plt.figure(figsize=(14,10));\n",
        "\n",
        "plt.subplot(4,1,1);\n",
        "plt.plot(X_clean[:,0], color='darkred');\n",
        "plt.title(\"Reflux Flow Rate\", fontsize=20);\n",
        "plt.ylabel(\"Flow rate (lb/s)\", fontsize=20);\n",
        "plt.xticks(fontsize=20);\n",
        "plt.yticks(fontsize=20);\n",
        "for key, interval in EW.unified_intervals.items():\n",
        "    plt.axvline(np.min(interval))\n",
        "    plt.axvline(np.max(interval))\n",
        "    \n",
        "plt.subplot(4,1,2);\n",
        "plt.plot(X_clean[:,1], color='darkgreen');\n",
        "plt.title(\"Steam Flow Rate\", fontsize=20);\n",
        "plt.ylabel(\"Flow rate (lb/s)\", fontsize=20);\n",
        "plt.xticks(fontsize=20);\n",
        "plt.yticks(fontsize=20);\n",
        "for key, interval in EW.unified_intervals.items():\n",
        "    plt.axvline(np.min(interval))\n",
        "    plt.axvline(np.max(interval))\n",
        "    \n",
        "plt.subplot(4,1,3);\n",
        "plt.plot(Y_clean[:,0], color='darkmagenta');\n",
        "plt.title(\"Overhead Composition\", fontsize=20);\n",
        "plt.ylabel(\"Composition (%)\", fontsize=20);\n",
        "plt.xticks(fontsize=20);\n",
        "plt.yticks(fontsize=20);\n",
        "for key, interval in EW.unified_intervals.items():\n",
        "    plt.axvline(np.min(interval))\n",
        "    plt.axvline(np.max(interval))\n",
        "    \n",
        "plt.subplot(4,1,4);\n",
        "plt.plot(Y_clean[:,1],  color='purple');\n",
        "plt.title(\"Bottom Composition\", fontsize=20);\n",
        "plt.ylabel(\"Composition (%)\", fontsize=20);\n",
        "plt.xlabel(\"Time (Minutes)\", fontsize=20);\n",
        "plt.xticks(fontsize=20);\n",
        "plt.yticks(fontsize=20);\n",
        "for key, interval in EW.unified_intervals.items():\n",
        "    plt.axvline(np.min(interval))\n",
        "    plt.axvline(np.max(interval))\n",
        "    \n",
        "plt.tight_layout();"
      ],
      "execution_count": null,
      "outputs": [
        {
          "output_type": "display_data",
          "data": {
            "image/png": "[encoded data removed]",
            "text/plain": [
              "<Figure size 1008x720 with 4 Axes>"
            ]
          },
          "metadata": {
            "tags": []
          }
        }
      ]
    },
    {
      "cell_type": "markdown",
      "metadata": {
        "id": "0XD9rtYyQnZT"
      },
      "source": [
        "## **4. Apply Laguere Filter Method**"
      ]
    },
    {
      "cell_type": "code",
      "metadata": {
        "id": "6R4YynkmQbKD"
      },
      "source": [
        "LG = LaguerreStructure(\n",
        "        Nb=10,\n",
        "        p=0.92,\n",
        "        delay=10,\n",
        "        cc_alpha=0.05,\n",
        "        initial_intervals=EW.unified_intervals,\n",
        "        efr_type='type_2',\n",
        "        sv_thr=0.5,\n",
        "        n_jobs = -1,\n",
        "        verbose = 0\n",
        "        )"
      ],
      "execution_count": null,
      "outputs": []
    },
    {
      "cell_type": "code",
      "metadata": {
        "id": "hE32sVUzQuNF"
      },
      "source": [
        "start = time()\n",
        "LG.fit(X=df[['U1','U2']],\n",
        "       y=df[['Y1','Y2']]);\n",
        "end = time()"
      ],
      "execution_count": null,
      "outputs": []
    },
    {
      "cell_type": "code",
      "metadata": {
        "id": "EUpnX4YfQz--",
        "outputId": "6b0fdd5e-9cca-4acf-c58b-d11dd32f24de",
        "colab": {
          "base_uri": "https://localhost:8080/"
        }
      },
      "source": [
        "print(\"Execution Time: {}\".format(end-start))"
      ],
      "execution_count": null,
      "outputs": [
        {
          "output_type": "stream",
          "text": [
            "Execution Time: 27.226277828216553\n"
          ],
          "name": "stdout"
        }
      ]
    },
    {
      "cell_type": "code",
      "metadata": {
        "id": "5RCSI2IAQ15r",
        "outputId": "0989a714-acee-4155-90f3-d28bfaa433cc",
        "colab": {
          "base_uri": "https://localhost:8080/",
          "height": 189
        }
      },
      "source": [
        "pd.DataFrame(LG.miso_ranks).T"
      ],
      "execution_count": null,
      "outputs": [
        {
          "output_type": "execute_result",
          "data": {
            "text/html": [
              "<div>\n",
              "<style scoped>\n",
              "    .dataframe tbody tr th:only-of-type {\n",
              "        vertical-align: middle;\n",
              "    }\n",
              "\n",
              "    .dataframe tbody tr th {\n",
              "        vertical-align: top;\n",
              "    }\n",
              "\n",
              "    .dataframe thead th {\n",
              "        text-align: right;\n",
              "    }\n",
              "</style>\n",
              "<table border=\"1\" class=\"dataframe\">\n",
              "  <thead>\n",
              "    <tr style=\"text-align: right;\">\n",
              "      <th></th>\n",
              "      <th>Y2</th>\n",
              "      <th>Y1</th>\n",
              "    </tr>\n",
              "  </thead>\n",
              "  <tbody>\n",
              "    <tr>\n",
              "      <th>segment_0</th>\n",
              "      <td>{'U1': 9, 'U2': 0}</td>\n",
              "      <td>{'U1': 9, 'U2': 0}</td>\n",
              "    </tr>\n",
              "    <tr>\n",
              "      <th>segment_1</th>\n",
              "      <td>{'U1': 0, 'U2': 9}</td>\n",
              "      <td>{'U1': 0, 'U2': 9}</td>\n",
              "    </tr>\n",
              "    <tr>\n",
              "      <th>segment_2</th>\n",
              "      <td>{'U1': 9, 'U2': 0}</td>\n",
              "      <td>{'U1': 9, 'U2': 0}</td>\n",
              "    </tr>\n",
              "    <tr>\n",
              "      <th>segment_3</th>\n",
              "      <td>{'U1': 0, 'U2': 9}</td>\n",
              "      <td>{'U1': 0, 'U2': 9}</td>\n",
              "    </tr>\n",
              "    <tr>\n",
              "      <th>segment_4</th>\n",
              "      <td>{'U1': 9, 'U2': 9}</td>\n",
              "      <td>{'U1': 9, 'U2': 9}</td>\n",
              "    </tr>\n",
              "  </tbody>\n",
              "</table>\n",
              "</div>"
            ],
            "text/plain": [
              "                           Y2                  Y1\n",
              "segment_0  {'U1': 9, 'U2': 0}  {'U1': 9, 'U2': 0}\n",
              "segment_1  {'U1': 0, 'U2': 9}  {'U1': 0, 'U2': 9}\n",
              "segment_2  {'U1': 9, 'U2': 0}  {'U1': 9, 'U2': 0}\n",
              "segment_3  {'U1': 0, 'U2': 9}  {'U1': 0, 'U2': 9}\n",
              "segment_4  {'U1': 9, 'U2': 9}  {'U1': 9, 'U2': 9}"
            ]
          },
          "metadata": {
            "tags": []
          },
          "execution_count": 37
        }
      ]
    },
    {
      "cell_type": "code",
      "metadata": {
        "id": "7NbMo9XcQ3Gw",
        "outputId": "9bc7f778-da63-4e58-e902-6b95d8836bdd",
        "colab": {
          "base_uri": "https://localhost:8080/",
          "height": 189
        }
      },
      "source": [
        "pd.DataFrame(LG.cond_num_dict).T"
      ],
      "execution_count": null,
      "outputs": [
        {
          "output_type": "execute_result",
          "data": {
            "text/html": [
              "<div>\n",
              "<style scoped>\n",
              "    .dataframe tbody tr th:only-of-type {\n",
              "        vertical-align: middle;\n",
              "    }\n",
              "\n",
              "    .dataframe tbody tr th {\n",
              "        vertical-align: top;\n",
              "    }\n",
              "\n",
              "    .dataframe thead th {\n",
              "        text-align: right;\n",
              "    }\n",
              "</style>\n",
              "<table border=\"1\" class=\"dataframe\">\n",
              "  <thead>\n",
              "    <tr style=\"text-align: right;\">\n",
              "      <th></th>\n",
              "      <th>Y2</th>\n",
              "      <th>Y1</th>\n",
              "    </tr>\n",
              "  </thead>\n",
              "  <tbody>\n",
              "    <tr>\n",
              "      <th>segment_0</th>\n",
              "      <td>{'U1': 3826.706031967569, 'U2': inf}</td>\n",
              "      <td>{'U1': 3826.706031967569, 'U2': inf}</td>\n",
              "    </tr>\n",
              "    <tr>\n",
              "      <th>segment_1</th>\n",
              "      <td>{'U1': inf, 'U2': 3826.706031967569}</td>\n",
              "      <td>{'U1': inf, 'U2': 3826.706031967569}</td>\n",
              "    </tr>\n",
              "    <tr>\n",
              "      <th>segment_2</th>\n",
              "      <td>{'U1': 9959.914853799299, 'U2': inf}</td>\n",
              "      <td>{'U1': 9959.914853799299, 'U2': inf}</td>\n",
              "    </tr>\n",
              "    <tr>\n",
              "      <th>segment_3</th>\n",
              "      <td>{'U1': inf, 'U2': 9959.914853811855}</td>\n",
              "      <td>{'U1': inf, 'U2': 9959.914853811855}</td>\n",
              "    </tr>\n",
              "    <tr>\n",
              "      <th>segment_4</th>\n",
              "      <td>{'U1': 9959.914853811855, 'U2': 9959.914853811...</td>\n",
              "      <td>{'U1': 9959.914853811855, 'U2': 9959.914853811...</td>\n",
              "    </tr>\n",
              "  </tbody>\n",
              "</table>\n",
              "</div>"
            ],
            "text/plain": [
              "                                                          Y2                                                 Y1\n",
              "segment_0               {'U1': 3826.706031967569, 'U2': inf}               {'U1': 3826.706031967569, 'U2': inf}\n",
              "segment_1               {'U1': inf, 'U2': 3826.706031967569}               {'U1': inf, 'U2': 3826.706031967569}\n",
              "segment_2               {'U1': 9959.914853799299, 'U2': inf}               {'U1': 9959.914853799299, 'U2': inf}\n",
              "segment_3               {'U1': inf, 'U2': 9959.914853811855}               {'U1': inf, 'U2': 9959.914853811855}\n",
              "segment_4  {'U1': 9959.914853811855, 'U2': 9959.914853811...  {'U1': 9959.914853811855, 'U2': 9959.914853811..."
            ]
          },
          "metadata": {
            "tags": []
          },
          "execution_count": 38
        }
      ]
    },
    {
      "cell_type": "code",
      "metadata": {
        "id": "1NR3X118RPeH",
        "outputId": "3bc451f4-7084-49b3-8030-3b31a34da0de",
        "colab": {
          "base_uri": "https://localhost:8080/",
          "height": 189
        }
      },
      "source": [
        "pd.DataFrame(LG.chi_squared_dict).T"
      ],
      "execution_count": null,
      "outputs": [
        {
          "output_type": "execute_result",
          "data": {
            "text/html": [
              "<div>\n",
              "<style scoped>\n",
              "    .dataframe tbody tr th:only-of-type {\n",
              "        vertical-align: middle;\n",
              "    }\n",
              "\n",
              "    .dataframe tbody tr th {\n",
              "        vertical-align: top;\n",
              "    }\n",
              "\n",
              "    .dataframe thead th {\n",
              "        text-align: right;\n",
              "    }\n",
              "</style>\n",
              "<table border=\"1\" class=\"dataframe\">\n",
              "  <thead>\n",
              "    <tr style=\"text-align: right;\">\n",
              "      <th></th>\n",
              "      <th>Y2</th>\n",
              "      <th>Y1</th>\n",
              "    </tr>\n",
              "  </thead>\n",
              "  <tbody>\n",
              "    <tr>\n",
              "      <th>segment_0</th>\n",
              "      <td>{'U1': 378.2632857298497, 'U2': 0.138210135715...</td>\n",
              "      <td>{'U1': 963.9613150224066, 'U2': 0.056399286907...</td>\n",
              "    </tr>\n",
              "    <tr>\n",
              "      <th>segment_1</th>\n",
              "      <td>{'U1': 0.20017666139654594, 'U2': 592.70861826...</td>\n",
              "      <td>{'U1': 0.2569120889195506, 'U2': 678.928210071...</td>\n",
              "    </tr>\n",
              "    <tr>\n",
              "      <th>segment_2</th>\n",
              "      <td>{'U1': 584.3279675117058, 'U2': 0.718393858043...</td>\n",
              "      <td>{'U1': 1465.3879988959957, 'U2': 0.20851096560...</td>\n",
              "    </tr>\n",
              "    <tr>\n",
              "      <th>segment_3</th>\n",
              "      <td>{'U1': 0.13136012639661815, 'U2': 794.32705879...</td>\n",
              "      <td>{'U1': 0.13428797326329686, 'U2': 1036.1017887...</td>\n",
              "    </tr>\n",
              "    <tr>\n",
              "      <th>segment_4</th>\n",
              "      <td>{'U1': 246.35075531972493, 'U2': 246.350755319...</td>\n",
              "      <td>{'U1': 377.3375928186257, 'U2': 377.3375928186...</td>\n",
              "    </tr>\n",
              "  </tbody>\n",
              "</table>\n",
              "</div>"
            ],
            "text/plain": [
              "                                                          Y2                                                 Y1\n",
              "segment_0  {'U1': 378.2632857298497, 'U2': 0.138210135715...  {'U1': 963.9613150224066, 'U2': 0.056399286907...\n",
              "segment_1  {'U1': 0.20017666139654594, 'U2': 592.70861826...  {'U1': 0.2569120889195506, 'U2': 678.928210071...\n",
              "segment_2  {'U1': 584.3279675117058, 'U2': 0.718393858043...  {'U1': 1465.3879988959957, 'U2': 0.20851096560...\n",
              "segment_3  {'U1': 0.13136012639661815, 'U2': 794.32705879...  {'U1': 0.13428797326329686, 'U2': 1036.1017887...\n",
              "segment_4  {'U1': 246.35075531972493, 'U2': 246.350755319...  {'U1': 377.3375928186257, 'U2': 377.3375928186..."
            ]
          },
          "metadata": {
            "tags": []
          },
          "execution_count": 39
        }
      ]
    },
    {
      "cell_type": "code",
      "metadata": {
        "id": "T-RDXoMwRRPo",
        "outputId": "d522aea4-ae09-432e-a539-8272e1c564ae",
        "colab": {
          "base_uri": "https://localhost:8080/",
          "height": 189
        }
      },
      "source": [
        "pd.DataFrame(LG.miso_correlations).T"
      ],
      "execution_count": null,
      "outputs": [
        {
          "output_type": "execute_result",
          "data": {
            "text/html": [
              "<div>\n",
              "<style scoped>\n",
              "    .dataframe tbody tr th:only-of-type {\n",
              "        vertical-align: middle;\n",
              "    }\n",
              "\n",
              "    .dataframe tbody tr th {\n",
              "        vertical-align: top;\n",
              "    }\n",
              "\n",
              "    .dataframe thead th {\n",
              "        text-align: right;\n",
              "    }\n",
              "</style>\n",
              "<table border=\"1\" class=\"dataframe\">\n",
              "  <thead>\n",
              "    <tr style=\"text-align: right;\">\n",
              "      <th></th>\n",
              "      <th>Y2</th>\n",
              "      <th>Y1</th>\n",
              "    </tr>\n",
              "  </thead>\n",
              "  <tbody>\n",
              "    <tr>\n",
              "      <th>segment_0</th>\n",
              "      <td>{'U1': 6.049553079452166, 'U2': 0}</td>\n",
              "      <td>{'U1': 6.1855924420060315, 'U2': 0}</td>\n",
              "    </tr>\n",
              "    <tr>\n",
              "      <th>segment_1</th>\n",
              "      <td>{'U1': 0, 'U2': 6.138044004357165}</td>\n",
              "      <td>{'U1': 0, 'U2': 6.02462199491633}</td>\n",
              "    </tr>\n",
              "    <tr>\n",
              "      <th>segment_2</th>\n",
              "      <td>{'U1': 6.3674995781024215, 'U2': 0}</td>\n",
              "      <td>{'U1': 6.444531168813707, 'U2': 0}</td>\n",
              "    </tr>\n",
              "    <tr>\n",
              "      <th>segment_3</th>\n",
              "      <td>{'U1': 0, 'U2': 6.40566838006142}</td>\n",
              "      <td>{'U1': 0, 'U2': 6.355851475623052}</td>\n",
              "    </tr>\n",
              "    <tr>\n",
              "      <th>segment_4</th>\n",
              "      <td>{'U1': 6.321571117895862, 'U2': 6.321571117895...</td>\n",
              "      <td>{'U1': 6.468561375622979, 'U2': 6.468561375622...</td>\n",
              "    </tr>\n",
              "  </tbody>\n",
              "</table>\n",
              "</div>"
            ],
            "text/plain": [
              "                                                          Y2                                                 Y1\n",
              "segment_0                 {'U1': 6.049553079452166, 'U2': 0}                {'U1': 6.1855924420060315, 'U2': 0}\n",
              "segment_1                 {'U1': 0, 'U2': 6.138044004357165}                  {'U1': 0, 'U2': 6.02462199491633}\n",
              "segment_2                {'U1': 6.3674995781024215, 'U2': 0}                 {'U1': 6.444531168813707, 'U2': 0}\n",
              "segment_3                  {'U1': 0, 'U2': 6.40566838006142}                 {'U1': 0, 'U2': 6.355851475623052}\n",
              "segment_4  {'U1': 6.321571117895862, 'U2': 6.321571117895...  {'U1': 6.468561375622979, 'U2': 6.468561375622..."
            ]
          },
          "metadata": {
            "tags": []
          },
          "execution_count": 40
        }
      ]
    },
    {
      "cell_type": "markdown",
      "metadata": {
        "id": "5DOX2PxXRb4P"
      },
      "source": [
        "### **4.1 Case 1: at least one input-output pair must satisfy the required criteria**"
      ]
    },
    {
      "cell_type": "code",
      "metadata": {
        "id": "N81Ir28JRSXW"
      },
      "source": [
        "MS_1 = MIMOSegmentation(\n",
        "          model_structure=[LG],\n",
        "          segmentation_method=['method1'],\n",
        "          parameters_dict={'Laguerre':{'chi2_p_value_thr':0.01, \n",
        "                                        'cond_thr':15000, \n",
        "                                        'min_input_coupling':1,\n",
        "                                        'min_output_coupling':1}\n",
        "                            },\n",
        "          segmentation_type='stationary',\n",
        "          n_jobs=-1,\n",
        "          verbose=1);"
      ],
      "execution_count": null,
      "outputs": []
    },
    {
      "cell_type": "code",
      "metadata": {
        "id": "p5mjkNycRgkO",
        "outputId": "3a6c68fc-2fba-4199-9272-4cc6b3b5abc1",
        "colab": {
          "base_uri": "https://localhost:8080/"
        }
      },
      "source": [
        "MS_1.fit(X=df[['U1','U2']],\n",
        "         y=df[['Y1','Y2']]);"
      ],
      "execution_count": null,
      "outputs": [
        {
          "output_type": "stream",
          "text": [
            "Fitting Laguerre Model Structure...\n",
            "Laguerre Structure fit finished! \n",
            "\n",
            "\n",
            "Beginning Stationary Segmentation for method1...\n",
            "Stationary Segmentation Finished! \n",
            "\n",
            "\n"
          ],
          "name": "stdout"
        },
        {
          "output_type": "stream",
          "text": [
            "[Parallel(n_jobs=-1)]: Using backend ThreadingBackend with 2 concurrent workers.\n",
            "[Parallel(n_jobs=-1)]: Done   5 out of   5 | elapsed:    0.0s finished\n"
          ],
          "name": "stderr"
        }
      ]
    },
    {
      "cell_type": "code",
      "metadata": {
        "id": "rGzStLLERiBO",
        "outputId": "d37d3507-aef0-4c6c-dca3-f8512a4ead6b",
        "colab": {
          "base_uri": "https://localhost:8080/"
        }
      },
      "source": [
        "print(\"Approved Intervals: {}\".format(\n",
        "MS_1.sucessed_intervals['method1']['Laguerre'].keys()))"
      ],
      "execution_count": null,
      "outputs": [
        {
          "output_type": "stream",
          "text": [
            "Approved Intervals: dict_keys(['segment_0', 'segment_1', 'segment_3', 'segment_2', 'segment_4'])\n"
          ],
          "name": "stdout"
        }
      ]
    },
    {
      "cell_type": "markdown",
      "metadata": {
        "id": "p67NoWONRwD9"
      },
      "source": [
        "### **4.2 Case 2: all inputs and all outputs must satisfy the required criteria**"
      ]
    },
    {
      "cell_type": "code",
      "metadata": {
        "id": "n2LdptfeRlnH"
      },
      "source": [
        "MS_2 = MIMOSegmentation(\n",
        "          model_structure=[LG],\n",
        "          segmentation_method=['method1'],\n",
        "          parameters_dict={'Laguerre':{'chi2_p_value_thr':0.01, \n",
        "                                        'cond_thr':15000, \n",
        "                                        'min_input_coupling':2,\n",
        "                                        'min_output_coupling':2}\n",
        "                            },\n",
        "          segmentation_type='stationary',\n",
        "          n_jobs=-1,\n",
        "          verbose=1);"
      ],
      "execution_count": null,
      "outputs": []
    },
    {
      "cell_type": "code",
      "metadata": {
        "id": "0Nc6eFEOSAec",
        "outputId": "bf326e91-b8de-4928-b28c-2c1ca74be60b",
        "colab": {
          "base_uri": "https://localhost:8080/"
        }
      },
      "source": [
        "MS_2.fit(X=df[['U1','U2']],\n",
        "         y=df[['Y1','Y2']]);"
      ],
      "execution_count": null,
      "outputs": [
        {
          "output_type": "stream",
          "text": [
            "Fitting Laguerre Model Structure...\n",
            "Laguerre Structure fit finished! \n",
            "\n",
            "\n",
            "Beginning Stationary Segmentation for method1...\n",
            "Stationary Segmentation Finished! \n",
            "\n",
            "\n"
          ],
          "name": "stdout"
        },
        {
          "output_type": "stream",
          "text": [
            "[Parallel(n_jobs=-1)]: Using backend ThreadingBackend with 2 concurrent workers.\n",
            "[Parallel(n_jobs=-1)]: Done   5 out of   5 | elapsed:    0.0s finished\n"
          ],
          "name": "stderr"
        }
      ]
    },
    {
      "cell_type": "code",
      "metadata": {
        "id": "fHiDveTXSBv1",
        "outputId": "7343a16a-d51c-42e1-bda0-7b50ccb02da3",
        "colab": {
          "base_uri": "https://localhost:8080/"
        }
      },
      "source": [
        "print(\"Approved Intervals: {}\".format(\n",
        "MS_2.sucessed_intervals['method1']['Laguerre'].keys()))"
      ],
      "execution_count": null,
      "outputs": [
        {
          "output_type": "stream",
          "text": [
            "Approved Intervals: dict_keys(['segment_4'])\n"
          ],
          "name": "stdout"
        }
      ]
    }
  ]
}